{
  "nbformat": 4,
  "nbformat_minor": 0,
  "metadata": {
    "colab": {
      "provenance": [],
      "authorship_tag": "ABX9TyPHQ2AYbF5zFsN6ZSAmIa2G",
      "include_colab_link": true
    },
    "kernelspec": {
      "name": "python3",
      "display_name": "Python 3"
    },
    "language_info": {
      "name": "python"
    }
  },
  "cells": [
    {
      "cell_type": "markdown",
      "metadata": {
        "id": "view-in-github",
        "colab_type": "text"
      },
      "source": [
        "<a href=\"https://colab.research.google.com/github/Lipeee20/Pemerograman-Dasar/blob/main/Tugas%20Percobaan%202%20.ipynb\" target=\"_parent\"><img src=\"https://colab.research.google.com/assets/colab-badge.svg\" alt=\"Open In Colab\"/></a>"
      ]
    },
    {
      "cell_type": "code",
      "execution_count": null,
      "metadata": {
        "colab": {
          "base_uri": "https://localhost:8080/"
        },
        "id": "px-Xlxpobpqy",
        "outputId": "f60ebe0a-e018-4ef9-c25a-c53dd2202d1e"
      },
      "outputs": [
        {
          "output_type": "stream",
          "name": "stdout",
          "text": [
            "\n",
            "First Name : Philip\n",
            "Midle Name : Day\n",
            "Last Name  : Hutasoit\n",
            "Age        : 21\n",
            "Married    : False\n"
          ]
        }
      ],
      "source": [
        "\n",
        "#Tugas Minggu ke 2 (1)\n",
        "\n",
        "firstName = \"Philip\"      # string\n",
        "midleName = \"Day\"         # String\n",
        "lastName = \"Hutasoit\"     # string\n",
        "age = 21                  # integer\n",
        "isMarried = False         # boolean\n",
        "\n",
        "\n",
        "print()\n",
        "print(\"First Name :\", firstName)\n",
        "print(\"Midle Name :\", midleName)\n",
        "print(\"Last Name  :\", lastName)\n",
        "print(\"Age        :\", age)\n",
        "print(\"Married    :\", isMarried)\n"
      ]
    },
    {
      "cell_type": "code",
      "source": [
        "#Tugas Minggu ke 2 (2)\n",
        "\n",
        "data_diri = {\n",
        "    \"firstName\": \"Philip\",  #string\n",
        "    \"midleName\": \"Day\",     #string\n",
        "    \"lastName\": \"Hutasoit\", #string\n",
        "    \"age\": 21,              #integer\n",
        "    \"isMarried\": False      #Boolean\n",
        "}\n",
        "print(\"==>> Data Diri (Dictionary) <<==\")\n",
        "print()\n",
        "for key, value in data_diri.items():\n",
        "    print(f\"{key.ljust(12)}: {value}\")\n"
      ],
      "metadata": {
        "colab": {
          "base_uri": "https://localhost:8080/"
        },
        "id": "tEhSZji81dYc",
        "outputId": "ffb8b74f-c07d-4734-b39d-0592ce9ca614"
      },
      "execution_count": 1,
      "outputs": [
        {
          "output_type": "stream",
          "name": "stdout",
          "text": [
            "==>> Data Diri (Dictionary) <<==\n",
            "\n",
            "firstName   : Philip\n",
            "midleName   : Day\n",
            "lastName    : Hutasoit\n",
            "age         : 21\n",
            "isMarried   : False\n"
          ]
        }
      ]
    },
    {
      "cell_type": "code",
      "source": [
        "#Tugas Minggu ke 2 (3)\n",
        "\n",
        "inspeksi = [\n",
        "    \"pemahaman terhadap rencana dan desain\",\n",
        "    \"ketersediaan bahan dan peralatan\",\n",
        "    \"pengawasan pekerjaan\",\n",
        "    \"kualitas konstruksi\",\n",
        "    \"keselamatan kerja\",\n",
        "    \"koordinasi dengan pemilik proyek\"\n",
        "]\n",
        "\n",
        "# Menampilkan hasil list inspeksi\n",
        "print(\"==>> Daftar Inspeksi bertipe list <<==\")\n",
        "for item in inspeksi:\n",
        "    print(\"->\", item)\n",
        "print()"
      ],
      "metadata": {
        "colab": {
          "base_uri": "https://localhost:8080/"
        },
        "id": "99yk_jyo1uvW",
        "outputId": "186c1150-12ce-449f-d9f5-ecaf2736dc74"
      },
      "execution_count": null,
      "outputs": [
        {
          "output_type": "stream",
          "name": "stdout",
          "text": [
            "==>> Daftar Inspeksi bertipe list <<==\n",
            "-> pemahaman terhadap rencana dan desain\n",
            "-> ketersediaan bahan dan peralatan\n",
            "-> pengawasan pekerjaan\n",
            "-> kualitas konstruksi\n",
            "-> keselamatan kerja\n",
            "-> koordinasi dengan pemilik proyek\n",
            "\n"
          ]
        }
      ]
    },
    {
      "cell_type": "code",
      "source": [
        "#Tugas Minggu ke 2 (4)\n",
        "\n",
        "startTime = {\"HH\": 9,\"mm\": 23, \"ss\": 57}\n",
        "\n",
        "endTime = {\"HH\": 15,\"mm\": 25, \"ss\": 43}\n",
        "\n",
        "\n",
        "print(\"Start Time = \", startTime[\"HH\"],\":\", startTime[\"mm\"], \":\",\n",
        "      startTime[\"ss\"])\n",
        "print(\"End Time = \", endTime[\"HH\"], \":\", endTime[\"mm\"], \":\", endTime[\"ss\"])\n"
      ],
      "metadata": {
        "colab": {
          "base_uri": "https://localhost:8080/"
        },
        "id": "2g4D7TQB6o_0",
        "outputId": "84971036-dab3-444b-8f26-d1de1ace492c"
      },
      "execution_count": null,
      "outputs": [
        {
          "output_type": "stream",
          "name": "stdout",
          "text": [
            "Start Time =  9 : 23 : 57\n",
            "End Time =  15 : 25 : 43\n"
          ]
        }
      ]
    },
    {
      "cell_type": "code",
      "source": [
        "#Tugas Minggu ke 2 (5)\n",
        "\n",
        "# Katalog produk dari dua pemasok (set)v\n",
        "katalog_A = {\"Laptop\", \"Mouse\", \"Keyboard\", \"Monitor\"}\n",
        "katalog_B = {\"Printer\", \"Mouse\", \"Monitor\", \"Tablet\"}\n",
        "\n",
        "# Daftar produk yang sedang diskon (tuple)\n",
        "produk_diskon = (\"Laptop\", \"Printer\", \"Tablet\", \"Speaker\")\n",
        "\n",
        "# 1. Gabungkan katalog_A dan katalog_B menjadi satu set\n",
        "katalog_lengkap = katalog_A.union(katalog_B)\n",
        "\n",
        "# 2. Cari produk yang ada di katalog_lengkap dan juga ada di produk_diskon\n",
        "produk_promo_aktif = katalog_lengkap.intersection(produk_diskon)\n",
        "\n",
        "# Cetak hasil rapi\n",
        "print(\"==>> KATALOG LENGKAP <<==\")\n",
        "for item in sorted(katalog_lengkap):\n",
        "    print(\"-\", item)\n",
        "\n",
        "print(\"\\n==>> PRODUK DISKON <<==\")\n",
        "for item in produk_diskon:\n",
        "    print(\"-\", item)\n",
        "\n",
        "print(\"\\n==>> PRODUK PROMO AKTIF <<==\")\n",
        "for item in sorted(produk_promo_aktif):\n",
        "    print(\"-\", item)"
      ],
      "metadata": {
        "colab": {
          "base_uri": "https://localhost:8080/"
        },
        "id": "cScuGQsn6pMG",
        "outputId": "77053ea9-1a87-42c8-ba00-60dd617fd794"
      },
      "execution_count": null,
      "outputs": [
        {
          "output_type": "stream",
          "name": "stdout",
          "text": [
            "==>> KATALOG LENGKAP <<==\n",
            "- Keyboard\n",
            "- Laptop\n",
            "- Monitor\n",
            "- Mouse\n",
            "- Printer\n",
            "- Tablet\n",
            "\n",
            "==>> PRODUK DISKON <<==\n",
            "- Laptop\n",
            "- Printer\n",
            "- Tablet\n",
            "- Speaker\n",
            "\n",
            "==>> PRODUK PROMO AKTIF <<==\n",
            "- Laptop\n",
            "- Printer\n",
            "- Tablet\n"
          ]
        }
      ]
    }
  ]
}