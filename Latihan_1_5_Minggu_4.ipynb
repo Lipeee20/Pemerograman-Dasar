{
  "nbformat": 4,
  "nbformat_minor": 0,
  "metadata": {
    "colab": {
      "provenance": [],
      "authorship_tag": "ABX9TyN9oNc7X4zGIrQAu0U7YSlV",
      "include_colab_link": true
    },
    "kernelspec": {
      "name": "python3",
      "display_name": "Python 3"
    },
    "language_info": {
      "name": "python"
    }
  },
  "cells": [
    {
      "cell_type": "markdown",
      "metadata": {
        "id": "view-in-github",
        "colab_type": "text"
      },
      "source": [
        "<a href=\"https://colab.research.google.com/github/Lipeee20/Pemerograman-Dasar/blob/main/Latihan_1_5_Minggu_4.ipynb\" target=\"_parent\"><img src=\"https://colab.research.google.com/assets/colab-badge.svg\" alt=\"Open In Colab\"/></a>"
      ]
    },
    {
      "cell_type": "code",
      "execution_count": 2,
      "metadata": {
        "colab": {
          "base_uri": "https://localhost:8080/"
        },
        "id": "mM_wzfUejxyz",
        "outputId": "0d298a14-b4cb-43cf-9293-7a17c40da561"
      },
      "outputs": [
        {
          "output_type": "stream",
          "name": "stdout",
          "text": [
            "Masukkan sebuah angka: 5\n",
            "Kelipatan 5\n"
          ]
        }
      ],
      "source": [
        "angka = int(input(\"Masukkan sebuah angka: \"))\n",
        "\n",
        "if angka % 5 == 0:\n",
        "    print(\"Kelipatan 5\")\n",
        "else:\n",
        "    print(\"Bukan kelipatan 5\")\n"
      ]
    },
    {
      "cell_type": "code",
      "source": [
        "tahun = int(input(\"Masukkan tahun: \"))\n",
        "\n",
        "if tahun % 400 == 0:\n",
        "    print(\"Tahun kabisat\")\n",
        "elif tahun % 4 == 0 and tahun % 100 != 0:\n",
        "    print(\"Tahun kabisat\")\n",
        "else:\n",
        "    print(\"Bukan tahun kabisat\")\n"
      ],
      "metadata": {
        "id": "Bv6wghQypTY3",
        "colab": {
          "base_uri": "https://localhost:8080/"
        },
        "outputId": "f583f650-462b-4ee5-ad94-9294d6e9473f"
      },
      "execution_count": 3,
      "outputs": [
        {
          "output_type": "stream",
          "name": "stdout",
          "text": [
            "Masukkan tahun: 2000\n",
            "Tahun kabisat\n"
          ]
        }
      ]
    },
    {
      "cell_type": "code",
      "source": [
        "angka1 = int(input(\"Masukkan angka pertama: \"))\n",
        "angka2 = int(input(\"Masukkan angka kedua: \"))\n",
        "operator = input(\"Masukkan operator (+, -, *, /): \")\n",
        "\n",
        "if operator == \"+\":\n",
        "    print(\"Hasil:\", angka1 + angka2)\n",
        "elif operator == \"-\":\n",
        "    print(\"Hasil:\", angka1 - angka2)\n",
        "elif operator == \"*\":\n",
        "    print(\"Hasil:\", angka1 * angka2)\n",
        "elif operator == \"/\":\n",
        "    if angka2 != 0:\n",
        "        print(\"Hasil:\", angka1 / angka2)\n",
        "    else:\n",
        "        print(\"Tidak bisa dibagi dengan nol!\")\n",
        "else:\n",
        "    print(\"Operator tidak valid\")\n"
      ],
      "metadata": {
        "id": "Xp1xwbTDpUFj",
        "colab": {
          "base_uri": "https://localhost:8080/"
        },
        "outputId": "285c44a8-838a-4def-8e5c-3e62a5001764"
      },
      "execution_count": null,
      "outputs": [
        {
          "output_type": "stream",
          "name": "stdout",
          "text": [
            "Masukkan angka pertama: 99\n",
            "Masukkan angka kedua: 90\n",
            "Masukkan operator (+, -, *, /): /\n",
            "Hasil: 1.1\n"
          ]
        }
      ]
    },
    {
      "cell_type": "code",
      "source": [
        "bulan = int(input(\"Masukkan angka bulan (1-12): \"))\n",
        "\n",
        "if bulan == 1:\n",
        "    print(\"Merupakan Bulan Januari\")\n",
        "elif bulan == 2:\n",
        "    print(\"Merupakan Bulan Februari\")\n",
        "elif bulan == 3:\n",
        "    print(\"Merupakan Bulan Maret\")\n",
        "elif bulan == 4:\n",
        "    print(\"Merupakan Bulan April\")\n",
        "elif bulan == 5:\n",
        "    print(\"Merupakan Bulan Mei\")\n",
        "elif bulan == 6:\n",
        "    print(\"Merupakan Bulan Juni\")\n",
        "elif bulan == 7:\n",
        "    print(\"Merupakan Bulan Juli\")\n",
        "elif bulan == 8:\n",
        "    print(\"Merupakan Bulan Agustus\")\n",
        "elif bulan == 9:\n",
        "    print(\"Merupakan Bulan September\")\n",
        "elif bulan == 10:\n",
        "    print(\"Merupakan Bulan Oktober\")\n",
        "elif bulan == 11:\n",
        "    print(\"Merupakan Bulan November\")\n",
        "elif bulan == 12:\n",
        "    print(\"Merupakan Bulan Desember\")\n",
        "else:\n",
        "    print(\"Input salah\")\n"
      ],
      "metadata": {
        "id": "yYM9d0m2pUPi",
        "colab": {
          "base_uri": "https://localhost:8080/"
        },
        "outputId": "3aa4d2db-1ac2-44d9-e30e-a5a44d20895e"
      },
      "execution_count": null,
      "outputs": [
        {
          "output_type": "stream",
          "name": "stdout",
          "text": [
            "Masukkan angka bulan (1-12): 2\n",
            "Merupakan Bulan Februari\n"
          ]
        }
      ]
    },
    {
      "cell_type": "code",
      "source": [
        "jam = int(input(\"Masukkan jam (0-23): \"))\n",
        "\n",
        "if 0 <= jam <= 11:\n",
        "    print(\"Selamat Pagi\")\n",
        "elif 12 <= jam <= 15:\n",
        "    print(\"Selamat Siang\")\n",
        "elif 16 <= jam <= 18:\n",
        "    print(\"Selamat Sore\")\n",
        "elif 19 <= jam <= 23:\n",
        "    print(\"Selamat Malam\")\n",
        "else:\n",
        "    print(\"Input jam tidak valid\")\n"
      ],
      "metadata": {
        "id": "CZUL6F7NpUXy",
        "colab": {
          "base_uri": "https://localhost:8080/"
        },
        "outputId": "f49fb7c5-93da-40e4-adb7-07925ae139ca"
      },
      "execution_count": null,
      "outputs": [
        {
          "output_type": "stream",
          "name": "stdout",
          "text": [
            "Masukkan jam (0-23): 22\n",
            "Selamat Malam\n"
          ]
        }
      ]
    }
  ]
}