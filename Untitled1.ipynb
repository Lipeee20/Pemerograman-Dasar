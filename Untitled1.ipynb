{
  "nbformat": 4,
  "nbformat_minor": 0,
  "metadata": {
    "colab": {
      "provenance": [],
      "authorship_tag": "ABX9TyMVn8oVolJxk1T5+CLbEKmE",
      "include_colab_link": true
    },
    "kernelspec": {
      "name": "python3",
      "display_name": "Python 3"
    },
    "language_info": {
      "name": "python"
    }
  },
  "cells": [
    {
      "cell_type": "markdown",
      "metadata": {
        "id": "view-in-github",
        "colab_type": "text"
      },
      "source": [
        "<a href=\"https://colab.research.google.com/github/Lipeee20/Pemerograman-Dasar/blob/main/Untitled1.ipynb\" target=\"_parent\"><img src=\"https://colab.research.google.com/assets/colab-badge.svg\" alt=\"Open In Colab\"/></a>"
      ]
    },
    {
      "cell_type": "code",
      "execution_count": 1,
      "metadata": {
        "id": "Q_I453Cc-sIM",
        "colab": {
          "base_uri": "https://localhost:8080/"
        },
        "outputId": "d33febc9-df26-4188-a96d-a19af0853daf"
      },
      "outputs": [
        {
          "output_type": "stream",
          "name": "stdout",
          "text": [
            "=== Biodata Mahasiswa ===\n",
            "Nama        : Andi\n",
            "Umur        : 26\n",
            "Jurusan     : RPE\n",
            "Semester    : 3\n",
            "Mata Kuliah : Pemrograman Dasar\n",
            "Status Lulus: False\n",
            "\n",
            "=== Tipe Data Masing-masing Variabel ===\n",
            "Tipe data nama        : <class 'str'>\n",
            "Tipe data umur        : <class 'int'>\n",
            "Tipe data jurusan     : <class 'str'>\n",
            "Tipe data semester    : <class 'int'>\n",
            "Tipe data matakuliah  : <class 'str'>\n",
            "Tipe data status_lulus: <class 'bool'>\n"
          ]
        }
      ],
      "source": [
        "# ===============================\n",
        "# Praktikum Pemrograman Dasar\n",
        "# Google Colab Notebook\n",
        "# ===============================\n",
        "\n",
        "# 1. Definisi Variabel\n",
        "nama = \"Andi\"\n",
        "umur = 26\n",
        "jurusan = \"RPE\"\n",
        "semester = 3\n",
        "matakuliah = \"Pemrograman Dasar\"\n",
        "status_lulus = False\n",
        "# 2. Menampilkan Data\n",
        "print(\"=== Biodata Mahasiswa ===\")\n",
        "print(\"Nama        :\", nama)\n",
        "print(\"Umur        :\", umur)\n",
        "print(\"Jurusan     :\", jurusan)\n",
        "print(\"Semester    :\", semester)\n",
        "print(\"Mata Kuliah :\", matakuliah)\n",
        "print(\"Status Lulus:\", status_lulus)\n",
        "\n",
        "# 3. Menampilkan Jenis Tipe Data\n",
        "print(\"\\n=== Tipe Data Masing-masing Variabel ===\")\n",
        "print(\"Tipe data nama        :\", type(nama))\n",
        "print(\"Tipe data umur        :\", type(umur))\n",
        "print(\"Tipe data jurusan     :\", type(jurusan))\n",
        "print(\"Tipe data semester    :\", type(semester))\n",
        "print(\"Tipe data matakuliah  :\", type(matakuliah))\n",
        "print(\"Tipe data status_lulus:\", type(status_lulus))\n"
      ]
    }
  ]
}