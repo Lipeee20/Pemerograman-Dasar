{
  "nbformat": 4,
  "nbformat_minor": 0,
  "metadata": {
    "colab": {
      "provenance": [],
      "authorship_tag": "ABX9TyN7E2IDzNkSNCR2yuo6MBTe",
      "include_colab_link": true
    },
    "kernelspec": {
      "name": "python3",
      "display_name": "Python 3"
    },
    "language_info": {
      "name": "python"
    }
  },
  "cells": [
    {
      "cell_type": "markdown",
      "metadata": {
        "id": "view-in-github",
        "colab_type": "text"
      },
      "source": [
        "<a href=\"https://colab.research.google.com/github/Lipeee20/Pemerograman-Dasar/blob/main/Untitled0.ipynb\" target=\"_parent\"><img src=\"https://colab.research.google.com/assets/colab-badge.svg\" alt=\"Open In Colab\"/></a>"
      ]
    },
    {
      "cell_type": "code",
      "execution_count": null,
      "metadata": {
        "id": "lRrUqYXMUp-L"
      },
      "outputs": [],
      "source": [
        "# ===============================\n",
        "# Praktikum Pemrograman Dasar\n",
        "# Google Colab Notebook\n",
        "# ===============================\n",
        "\n",
        "# 1. Definisi Variabel\n",
        "nama = \"Andi\"                     # String\n",
        "umur = 26                         # Integer\n",
        "jurusan = \"RPE\"                   # String\n",
        "semester = 3                      # Integer\n",
        "matakuliah = \"Pemrograman Dasar\"  # String\n",
        "status_lulus = False              # Boolean\n",
        "\n",
        "# 2. Menampilkan Data\n",
        "print(\"=== Biodata Mahasiswa ===\")\n",
        "print(\"Nama        :\", nama)\n",
        "print(\"Umur        :\", umur)\n",
        "print(\"Jurusan     :\", jurusan)\n",
        "print(\"Semester    :\", semester)\n",
        "print(\"Mata Kuliah :\", matakuliah)\n",
        "print(\"Status Lulus:\", status_lulus)\n",
        "\n",
        "# 3. Menampilkan Jenis Tipe Data\n",
        "print(\"\\n=== Tipe Data Masing-masing Variabel ===\")\n",
        "print(\"Tipe data nama        :\", type(nama))\n",
        "print(\"Tipe data umur        :\", type(umur))\n",
        "print(\"Tipe data jurusan     :\", type(jurusan))\n",
        "print(\"Tipe data semester    :\", type(semester))\n",
        "print(\"Tipe data matakuliah  :\", type(matakuliah))\n",
        "print(\"Tipe data status_lulus:\", type(status_lulus))\n"
      ]
    }
  ]
}