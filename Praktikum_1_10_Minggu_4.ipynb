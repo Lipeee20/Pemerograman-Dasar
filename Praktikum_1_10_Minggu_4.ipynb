{
  "nbformat": 4,
  "nbformat_minor": 0,
  "metadata": {
    "colab": {
      "provenance": [],
      "authorship_tag": "ABX9TyPgOtO2fL7YxK+uO3aVjIh3",
      "include_colab_link": true
    },
    "kernelspec": {
      "name": "python3",
      "display_name": "Python 3"
    },
    "language_info": {
      "name": "python"
    }
  },
  "cells": [
    {
      "cell_type": "markdown",
      "metadata": {
        "id": "view-in-github",
        "colab_type": "text"
      },
      "source": [
        "<a href=\"https://colab.research.google.com/github/Lipeee20/Pemerograman-Dasar/blob/main/Praktikum_1_10_Minggu_4.ipynb\" target=\"_parent\"><img src=\"https://colab.research.google.com/assets/colab-badge.svg\" alt=\"Open In Colab\"/></a>"
      ]
    },
    {
      "cell_type": "code",
      "execution_count": null,
      "metadata": {
        "id": "LygISyu2vpwn",
        "colab": {
          "base_uri": "https://localhost:8080/"
        },
        "outputId": "73f800c4-9fe8-414f-f423-a419f686343a"
      },
      "outputs": [
        {
          "output_type": "stream",
          "name": "stdout",
          "text": [
            "Batas Umur: 20\n",
            "Pengunjung Sudah Cukup Umur\n"
          ]
        }
      ],
      "source": [
        "umur = int(input(\"Batas Umur: \"))\n",
        "\n",
        "if umur > 17:\n",
        "    print(\"Pengunjung Sudah Cukup Umur\")\n",
        "else:\n",
        "    print(\"Pengunjung Belum Cukup Umur\")\n"
      ]
    },
    {
      "cell_type": "code",
      "source": [
        "username = input(\"username: \")\n",
        "password = input(\"password: \")\n",
        "\n",
        "if username == \"Lipee\" and password == \"ModalDong\":\n",
        "    print(\"Login berhasil\")\n",
        "else:\n",
        "    print(\"Username atau Password Anda salah\")\n"
      ],
      "metadata": {
        "colab": {
          "base_uri": "https://localhost:8080/"
        },
        "id": "Xak8oIk60DUg",
        "outputId": "3dc8e1aa-3955-4893-a249-39dbf1e428e8"
      },
      "execution_count": null,
      "outputs": [
        {
          "output_type": "stream",
          "name": "stdout",
          "text": [
            "username: Lipee\n",
            "password: ModalDong\n",
            "Login berhasil\n"
          ]
        }
      ]
    },
    {
      "cell_type": "code",
      "source": [
        "total_belanja = input(\"Total belanja 250000: Rp\")\n",
        "bayar = int(total_belanja)\n",
        "\n",
        "if int(total_belanja) > 100000:\n",
        "    print(\"Selamat Karena Belanja > Rp100.000 anda mendapat Voucher Makan \")\n",
        "    print(\"dan diskon 5%\")\n",
        "    diskon = int(total_belanja) * 5 / 100\n",
        "    bayar = int(total_belanja) - diskon\n",
        "\n",
        "print(f\"Total yang harus dibayar: Rp{bayar:,.0f}\")\n",
        "print(\"Terima kasih sudah berbelanja di Toko Kami\")\n",
        "print(\"Kami Tunggu kunjungan anda selanjutnya.\")\n"
      ],
      "metadata": {
        "id": "AGmhtIO90EuO",
        "colab": {
          "base_uri": "https://localhost:8080/"
        },
        "outputId": "6e839866-2663-47c8-94d3-aab2ba802eab"
      },
      "execution_count": null,
      "outputs": [
        {
          "output_type": "stream",
          "name": "stdout",
          "text": [
            "Total belanja: Rp250000\n",
            "Selamat Karena Belanja > Rp100.000 anda mendapat Voucher Makan \n",
            "dan diskon 5%\n",
            "Total yang harus dibayar: Rp237,500\n",
            "Terima kasih sudah berbelanja di Toko Kami\n",
            "Kami Tunggu kunjungan anda selanjutnya.\n"
          ]
        }
      ]
    },
    {
      "cell_type": "code",
      "source": [
        "ada_notifikasi_baru: bool = True\n",
        "\n",
        "if ada_notifikasi_baru:\n",
        "    print(\"Ada notifikasi baru\")\n",
        "else:\n",
        "    print(\"Tidak ada notifikasi baru\")\n"
      ],
      "metadata": {
        "id": "NOhMN1SW0E2-",
        "colab": {
          "base_uri": "https://localhost:8080/"
        },
        "outputId": "1870e6cd-b896-4831-e384-4e2661eda861"
      },
      "execution_count": null,
      "outputs": [
        {
          "output_type": "stream",
          "name": "stdout",
          "text": [
            "Tidak ada notifikasi baru\n"
          ]
        }
      ]
    },
    {
      "cell_type": "code",
      "source": [
        "umur = input(\"umur kamu? : \")\n",
        "\n",
        "if int(umur) >= 18:\n",
        "    print(\"Kamu sudah bisa membuat SIM\")\n",
        "else:\n",
        "    print(\"Kamu belum bisa membuat SIM\")\n"
      ],
      "metadata": {
        "id": "ZAdUdI2u0E_W",
        "colab": {
          "base_uri": "https://localhost:8080/"
        },
        "outputId": "fe4614fb-7157-4bf3-9645-0ea043be3c0b"
      },
      "execution_count": null,
      "outputs": [
        {
          "output_type": "stream",
          "name": "stdout",
          "text": [
            "umur kamu? : 18\n",
            "Kamu sudah bisa membuat SIM\n"
          ]
        }
      ]
    },
    {
      "cell_type": "code",
      "source": [
        "total_belanja = 250000\n",
        "\n",
        "if total_belanja > 200000:\n",
        "    diskon = total_belanja * 0.10\n",
        "    total_bayar = total_belanja - diskon\n",
        "    print(f\"Anda mendapat diskon! Total bayar: Rp{total_bayar:,.0f}\")\n",
        "else:\n",
        "    print(f\"Total bayar: Rp {total_belanja:,.0f}\")\n"
      ],
      "metadata": {
        "id": "J_I2F5Ty0FHJ",
        "colab": {
          "base_uri": "https://localhost:8080/"
        },
        "outputId": "0e6af3a8-9abd-45f2-dfd4-d341015f65aa"
      },
      "execution_count": null,
      "outputs": [
        {
          "output_type": "stream",
          "name": "stdout",
          "text": [
            "Anda mendapat diskon! Total bayar: Rp 225,000\n"
          ]
        }
      ]
    },
    {
      "cell_type": "code",
      "source": [
        "angka = int(input(\"Masukkan bilangan: \"))\n",
        "\n",
        "if angka % 2 == 0:\n",
        "    print(\"Bilangan Genap\")\n",
        "else:\n",
        "    print(\"Bilangan Ganjil\")\n"
      ],
      "metadata": {
        "id": "SXiW-WmV0FO-",
        "colab": {
          "base_uri": "https://localhost:8080/"
        },
        "outputId": "068387fe-81cd-466d-8b92-bb910b9653ea"
      },
      "execution_count": null,
      "outputs": [
        {
          "output_type": "stream",
          "name": "stdout",
          "text": [
            "Masukkan bilangan: 2\n",
            "Bilangan Genap\n"
          ]
        }
      ]
    },
    {
      "cell_type": "code",
      "source": [
        "nilai = int(input(\"Masukkan nilai: \"))\n",
        "if nilai >= 85:\n",
        "    print(\"Luar biasa! Nilai A, Terus Pertahankan :)\")\n",
        "elif nilai >= 70:\n",
        "    print(\"Bagus! Nilai B, Belajarnya Lebih Ditingkatkan\")\n",
        "elif nilai >= 60:\n",
        "    print(\"Cukup. Nilai C, Belajarnya Lebih giat lagi\")\n",
        "else:\n",
        "    print(\"Nilai kurang, perlu belajar lebih giat.\")\n"
      ],
      "metadata": {
        "id": "2qokoYYI0FXc",
        "colab": {
          "base_uri": "https://localhost:8080/"
        },
        "outputId": "2a4cb1c1-9ece-4ac8-9c49-124890ebb9a9"
      },
      "execution_count": null,
      "outputs": [
        {
          "output_type": "stream",
          "name": "stdout",
          "text": [
            "Masukkan nilai: 92\n",
            "Luar biasa! Nilai A\n"
          ]
        }
      ]
    },
    {
      "cell_type": "code",
      "source": [
        "hari: str = input(\"Masukkan hari: \")\n",
        "\n",
        "if hari == \"sabtu\" or hari == \"minggu\":\n",
        "    diskon: float = 0.20\n",
        "    print(f\"Selamat! Anda mendapat diskon akhir pekan sebesar {diskon*100:,.0f}%.\")\n",
        "elif hari == \"Jumat\":\n",
        "    diskon: float = 0.15\n",
        "    print(f\"Diskon spesial jumat! Anda mendapat potongan {diskon*100:,.0f}%.\")\n",
        "else:\n",
        "    diskon: float = 0.05\n",
        "    print(f\"Anda mendapat diskon hari biasa sebesar {diskon*100:,.0f}%.\")\n"
      ],
      "metadata": {
        "id": "D9RdrOGL0FfA",
        "colab": {
          "base_uri": "https://localhost:8080/"
        },
        "outputId": "af55d0b6-480f-4824-8ae9-9d5d3b99dc0f"
      },
      "execution_count": null,
      "outputs": [
        {
          "output_type": "stream",
          "name": "stdout",
          "text": [
            "Masukkan hari: Jumat\n",
            "Diskon spesial Jumat! Anda mendapat potongan 15%.\n"
          ]
        }
      ]
    },
    {
      "cell_type": "code",
      "source": [
        "rupiah = int(input(\"Masukkan jumlah uang (Rp): \"))\n",
        "print(\"1. Dollar (USD)\")\n",
        "print(\"2. Euro (EUR)\")\n",
        "print(\"3. Yen (JPY)\")\n",
        "pilih = int(input(\"Pilih konversi (1/2/3): \"))\n",
        "\n",
        "if pilih == 1:\n",
        "    print(\"Dalam Dollar:\", rupiah / 16682.90)\n",
        "elif pilih == 2:\n",
        "    print(\"Dalam Euro:\", rupiah / 19568.10)\n",
        "elif pilih == 3:\n",
        "    print(\"Dalam Yen:\", rupiah / 112.76)\n",
        "else:\n",
        "    print(\"Pilihan tidak valid\")\n"
      ],
      "metadata": {
        "id": "7Hd26Uv-0Fml",
        "colab": {
          "base_uri": "https://localhost:8080/"
        },
        "outputId": "158ba925-5270-4abe-9f0c-e5f1472bf385"
      },
      "execution_count": null,
      "outputs": [
        {
          "output_type": "stream",
          "name": "stdout",
          "text": [
            "Masukkan jumlah uang (Rp): 250000\n",
            "1. Dollar (USD)\n",
            "2. Euro (EUR)\n",
            "3. Yen (JPY)\n",
            "Pilih konversi (1/2/3): 1\n",
            "Dalam Dollar: 14.985404216293329\n"
          ]
        }
      ]
    }
  ]
}