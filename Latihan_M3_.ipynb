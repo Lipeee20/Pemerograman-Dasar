{
  "nbformat": 4,
  "nbformat_minor": 0,
  "metadata": {
    "colab": {
      "provenance": [],
      "authorship_tag": "ABX9TyMEo9ALpZkoLIy/oPVg79/A",
      "include_colab_link": true
    },
    "kernelspec": {
      "name": "python3",
      "display_name": "Python 3"
    },
    "language_info": {
      "name": "python"
    }
  },
  "cells": [
    {
      "cell_type": "markdown",
      "metadata": {
        "id": "view-in-github",
        "colab_type": "text"
      },
      "source": [
        "<a href=\"https://colab.research.google.com/github/Lipeee20/Pemerograman-Dasar/blob/main/Latihan_M3_.ipynb\" target=\"_parent\"><img src=\"https://colab.research.google.com/assets/colab-badge.svg\" alt=\"Open In Colab\"/></a>"
      ]
    },
    {
      "cell_type": "code",
      "execution_count": null,
      "metadata": {
        "colab": {
          "base_uri": "https://localhost:8080/"
        },
        "id": "IrgEVYNwqXap",
        "outputId": "80d7b9be-1f34-42f6-ab5a-5889074c186f"
      },
      "outputs": [
        {
          "output_type": "stream",
          "name": "stdout",
          "text": [
            "Masukkan tahun: 2032\n",
            "\n",
            "Tahun: 2032\n",
            "Apakah kabisat? True\n"
          ]
        }
      ],
      "source": [
        "# Latihan 1 Minggu 3\n",
        "\n",
        "# Input tahun\n",
        "tahun = int(input(\"Masukkan tahun: \"))\n",
        "\n",
        "# Ekspresi logika kabisat\n",
        "kabisat = (tahun % 4 == 0 and tahun % 100 != 0) or (tahun % 400 == 0)\n",
        "\n",
        "# Output\n",
        "print()\n",
        "print(\"Tahun:\", tahun)\n",
        "print(\"Apakah kabisat?\", kabisat)\n"
      ]
    },
    {
      "cell_type": "code",
      "source": [
        "# Latihan 2 Minggu 3\n",
        "\n",
        "# Program menghitung luas segitiga sederhana\n",
        "\n",
        "# Fungsi Input\n",
        "alas = float(input(\"Masukkan alas segitiga   : \"))\n",
        "tinggi = float(input(\"Masukkan tinggi segitiga : \"))\n",
        "\n",
        "#Fungsi Proses (Operasi Aritmatika)\n",
        "luas = 0.5 * alas * tinggi\n",
        "\n",
        "#Fungsi Output\n",
        "print(\"Luas segitiga : %.0f\" % luas)\n"
      ],
      "metadata": {
        "colab": {
          "base_uri": "https://localhost:8080/"
        },
        "id": "EW--BDZe20k9",
        "outputId": "447b249c-1237-4c59-dd6a-e885a4c9d79e"
      },
      "execution_count": null,
      "outputs": [
        {
          "output_type": "stream",
          "name": "stdout",
          "text": [
            "Masukkan alas segitiga   : 10\n",
            "Masukkan tinggi segitiga : 10\n",
            "Luas segitiga : 50\n"
          ]
        }
      ]
    }
  ]
}