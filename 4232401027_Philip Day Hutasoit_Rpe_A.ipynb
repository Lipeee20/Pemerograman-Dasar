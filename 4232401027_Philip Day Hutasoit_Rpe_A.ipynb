{
  "nbformat": 4,
  "nbformat_minor": 0,
  "metadata": {
    "colab": {
      "provenance": [],
      "authorship_tag": "ABX9TyNAG0pFxB/TZhJXp0F17ZMb",
      "include_colab_link": true
    },
    "kernelspec": {
      "name": "python3",
      "display_name": "Python 3"
    },
    "language_info": {
      "name": "python"
    }
  },
  "cells": [
    {
      "cell_type": "markdown",
      "metadata": {
        "id": "view-in-github",
        "colab_type": "text"
      },
      "source": [
        "<a href=\"https://colab.research.google.com/github/Lipeee20/Pemerograman-Dasar/blob/main/4232401027_Philip%20Day%20Hutasoit_Rpe_A.ipynb\" target=\"_parent\"><img src=\"https://colab.research.google.com/assets/colab-badge.svg\" alt=\"Open In Colab\"/></a>"
      ]
    },
    {
      "cell_type": "code",
      "execution_count": 2,
      "metadata": {
        "id": "Q_I453Cc-sIM",
        "colab": {
          "base_uri": "https://localhost:8080/"
        },
        "outputId": "58871c53-968d-4ba0-c6fe-027818a87e59"
      },
      "outputs": [
        {
          "output_type": "stream",
          "name": "stdout",
          "text": [
            "=== Biodata Mahasiswa ===\n",
            "Nama Panjang  : Philip Day Hutasoit\n",
            "Nama Panggilan: Lipe\n",
            "Tanggal Lahir : 20 Januari 2004\n",
            "Jenis Kelamin : laki-laki\n",
            "Agama         : Kristen Prostestan\n",
            "Umur          : 21\n",
            "anak ke       : 3 dari 6 bersaudara\n",
            "Asal Tempat   : Batam\n",
            "Nomor Telepon : 085835528129\n",
            "hobi          : Main bulutangkis\n",
            "Nim           : 4232401027\n",
            "Jurusan       : Teknik Elektro\n",
            "Prodi         : Teknologi Rekayasa Pembangkit Energi\n",
            "Semester      : 3\n",
            "Mata Kuliah   : Pemrograman Dasar\n",
            "Warga Negara  : Indonesia\n",
            "Status Lulus  : False\n",
            "status Menikah: False\n"
          ]
        }
      ],
      "source": [
        "# ===============================\n",
        "# Praktikum Pemrograman Dasar\n",
        "# Google Colab Notebook\n",
        "# ===============================\n",
        "\n",
        "# 1. Definisi Variabel\n",
        "nama_Panjang = \"Philip Day Hutasoit\"\n",
        "nama_Panggilan = \"Lipe\"\n",
        "Jenis_Kelamin = \"laki-laki\"\n",
        "Agama = \"Kristen Prostestan\"\n",
        "tanggal_lahir = \"20 Januari 2004\"\n",
        "umur = 21\n",
        "anak_ke = \"3 dari 6 bersaudara\"\n",
        "asal_Kota = \"Batam\"\n",
        "nomor_telepon = \"085835528129\"\n",
        "hobi = \"Main bulutangkis\"\n",
        "Nim = \"4232401027\"\n",
        "jurusan = \"Teknik Elektro\"\n",
        "Prodi = \"Teknologi Rekayasa Pembangkit Energi\"\n",
        "semester = 3\n",
        "matakuliah = \"Pemrograman Dasar\"\n",
        "warga_negara = \"Indonesia\"\n",
        "status_lulus = False\n",
        "status_menikah = False\n",
        "\n",
        "\n",
        "\n",
        "# 2. Menampilkan Data\n",
        "print(\"=== Biodata Mahasiswa ===\")\n",
        "print(\"Nama Panjang  :\", nama_Panjang)\n",
        "print(\"Nama Panggilan:\", nama_Panggilan)\n",
        "print(\"Tanggal Lahir :\", tanggal_lahir)\n",
        "print(\"Jenis Kelamin :\", Jenis_Kelamin)\n",
        "print(\"Agama         :\", Agama)\n",
        "print(\"Umur          :\", umur)\n",
        "print(\"anak ke       :\", anak_ke)\n",
        "print(\"Asal Tempat   :\", asal_Kota)\n",
        "print(\"Nomor Telepon :\", nomor_telepon)\n",
        "print(\"hobi          :\", hobi)\n",
        "print(\"Nim           :\", Nim)\n",
        "print(\"Jurusan       :\", jurusan)\n",
        "print(\"Prodi         :\", Prodi)\n",
        "print(\"Semester      :\", semester)\n",
        "print(\"Mata Kuliah   :\", matakuliah)\n",
        "print(\"Warga Negara  :\", warga_negara)\n",
        "print(\"Status Lulus  :\", status_lulus)\n",
        "print(\"status Menikah:\", status_menikah)\n",
        "\n"
      ]
    }
  ]
}