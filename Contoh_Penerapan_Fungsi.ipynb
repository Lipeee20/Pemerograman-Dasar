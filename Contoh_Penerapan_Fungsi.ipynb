{
  "nbformat": 4,
  "nbformat_minor": 0,
  "metadata": {
    "colab": {
      "provenance": [],
      "authorship_tag": "ABX9TyPPAaV2fRUhXyrbM9jGNlZe",
      "include_colab_link": true
    },
    "kernelspec": {
      "name": "python3",
      "display_name": "Python 3"
    },
    "language_info": {
      "name": "python"
    }
  },
  "cells": [
    {
      "cell_type": "markdown",
      "metadata": {
        "id": "view-in-github",
        "colab_type": "text"
      },
      "source": [
        "<a href=\"https://colab.research.google.com/github/Lipeee20/Pemerograman-Dasar/blob/main/Contoh_Penerapan_Fungsi.ipynb\" target=\"_parent\"><img src=\"https://colab.research.google.com/assets/colab-badge.svg\" alt=\"Open In Colab\"/></a>"
      ]
    },
    {
      "cell_type": "code",
      "execution_count": null,
      "metadata": {
        "colab": {
          "base_uri": "https://localhost:8080/"
        },
        "id": "Kk2Kb3JcZQKn",
        "outputId": "d83abfac-1aa3-4798-c243-27079690958b"
      },
      "outputs": [
        {
          "output_type": "stream",
          "name": "stdout",
          "text": [
            "Halo, selamat belajar Python!\n"
          ]
        }
      ],
      "source": [
        "def salam():\n",
        "    print(\"Halo, selamat belajar Python!\")\n",
        "\n",
        "# Pemanggilan fungsi\n",
        "salam()\n"
      ]
    },
    {
      "cell_type": "code",
      "source": [
        "def luas_persegi(sisi):\n",
        "    print(\"Luas persegi adalah:\", sisi * sisi)\n",
        "\n",
        "luas_persegi(5)\n"
      ],
      "metadata": {
        "colab": {
          "base_uri": "https://localhost:8080/"
        },
        "id": "CBYgAO8jaudo",
        "outputId": "55c94794-8ab7-457a-c53c-6e8c3d26746e"
      },
      "execution_count": null,
      "outputs": [
        {
          "output_type": "stream",
          "name": "stdout",
          "text": [
            "Luas persegi adalah: 25\n"
          ]
        }
      ]
    },
    {
      "cell_type": "code",
      "source": [
        "def hitung_luas_lingkaran(r):\n",
        "    return 3.14 * r * r\n",
        "\n",
        "hasil = hitung_luas_lingkaran(7)\n",
        "print(\"Luas lingkaran:\", hasil)\n"
      ],
      "metadata": {
        "colab": {
          "base_uri": "https://localhost:8080/"
        },
        "id": "04RSRFQ9aug8",
        "outputId": "06c66086-9479-43bb-8a37-dc05a3e8168a"
      },
      "execution_count": null,
      "outputs": [
        {
          "output_type": "stream",
          "name": "stdout",
          "text": [
            "Luas lingkaran: 153.86\n"
          ]
        }
      ]
    },
    {
      "cell_type": "code",
      "source": [
        "def cek_nilai(nilai):\n",
        "    if nilai >= 85:\n",
        "        return \"A\"\n",
        "    elif nilai >= 70:\n",
        "        return \"B\"\n",
        "    else:\n",
        "        return \"C\"\n",
        "\n",
        "print(\"Kategori nilai:\", cek_nilai(72))\n"
      ],
      "metadata": {
        "colab": {
          "base_uri": "https://localhost:8080/"
        },
        "id": "cl67q_OSaujf",
        "outputId": "6059e060-5717-4aba-c7b6-82e1ec08642b"
      },
      "execution_count": null,
      "outputs": [
        {
          "output_type": "stream",
          "name": "stdout",
          "text": [
            "Kategori nilai: B\n"
          ]
        }
      ]
    },
    {
      "cell_type": "code",
      "source": [
        "def tampilkan_data(data):\n",
        "    for item in data:\n",
        "        print(\"Data:\", item)\n",
        "\n",
        "# Pemanggilan fungsi\n",
        "tampilkan_data([\"apel\", \"jeruk\", \"mangga\"])\n"
      ],
      "metadata": {
        "colab": {
          "base_uri": "https://localhost:8080/"
        },
        "id": "44WmpUFNaumd",
        "outputId": "2944d1fd-9aed-43ba-c680-233727e4e9c9"
      },
      "execution_count": null,
      "outputs": [
        {
          "output_type": "stream",
          "name": "stdout",
          "text": [
            "Data: apel\n",
            "Data: jeruk\n",
            "Data: mangga\n"
          ]
        }
      ]
    },
    {
      "cell_type": "code",
      "source": [
        "def analisis_data(angka):\n",
        "    hasil = [n for n in angka if n % 2 == 0]  # list komprehensi (list)\n",
        "    data_set = set(angka)                     # set\n",
        "    return {\"genap\": hasil, \"unik\": data_set} # dictionary\n",
        "\n",
        "print(analisis_data([1, 2, 2, 3, 4, 4, 5]))\n"
      ],
      "metadata": {
        "colab": {
          "base_uri": "https://localhost:8080/"
        },
        "id": "PmGyPSXTaupA",
        "outputId": "8a57569c-5edb-41c6-d076-e1ec89a1c768"
      },
      "execution_count": null,
      "outputs": [
        {
          "output_type": "stream",
          "name": "stdout",
          "text": [
            "{'genap': [2, 2, 4, 4], 'unik': {1, 2, 3, 4, 5}}\n"
          ]
        }
      ]
    },
    {
      "cell_type": "code",
      "source": [
        "def cek_stok(barang):\n",
        "    stok_aman = []        # list untuk menyimpan barang dengan stok cukup\n",
        "    kategori = set()      # set untuk menyimpan kategori stok\n",
        "    total_stok = 0        # int (tipe data primitif)\n",
        "\n",
        "    print(\"=\"*35)\n",
        "    print(\"      DATA STOK BARANG GUDANG\")\n",
        "    print(\"=\"*35)\n",
        "    print(f\"{'Nama Barang':<15} {'Jumlah':<10} {'Status':<10}\")\n",
        "    print(\"-\"*35)\n",
        "\n",
        "    # Perulangan for untuk membaca setiap barang\n",
        "    for nama, jumlah in barang.items():\n",
        "        total_stok += jumlah\n",
        "\n",
        "        # Percabangan untuk menentukan kondisi stok\n",
        "        if jumlah > 20:\n",
        "            status = \"Aman\"\n",
        "        elif jumlah >= 10:\n",
        "            status = \"Cukup\"\n",
        "        else:\n",
        "            status = \"Menipis\"\n",
        "\n",
        "        kategori.add(status)\n",
        "        stok_aman.append((nama, jumlah, status))  # tuple\n",
        "        print(f\"{nama:<15} {jumlah:<10} {status:<10}\")\n",
        "\n",
        "    print(\"-\"*35)\n",
        "\n",
        "    # Perulangan while untuk menampilkan ringkasan total stok\n",
        "    i = 0\n",
        "    while i < 1:\n",
        "        print(f\"Total seluruh stok: {total_stok}\")\n",
        "        print(f\"Kategori stok yang muncul: {', '.join(kategori)}\")\n",
        "        i += 1\n",
        "\n",
        "    # Dictionary sebagai ringkasan data\n",
        "    ringkasan = {\n",
        "        \"Total Barang\": len(barang),\n",
        "        \"Total Stok\": total_stok,\n",
        "        \"Kategori\": kategori\n",
        "    }\n",
        "\n",
        "    return ringkasan\n",
        "\n",
        "\n",
        "# Data barang (dictionary)\n",
        "data_gudang = {\n",
        "    \"Kabel\": 25,\n",
        "    \"Lampu\": 18,\n",
        "    \"Stopkontak\": 8,\n",
        "    \"Sakelar\": 12,\n",
        "    \"Sekrup\": 5\n",
        "}\n",
        "\n",
        "# Pemanggilan fungsi\n",
        "hasil = cek_stok(data_gudang)\n",
        "\n",
        "print(\"\\n\" + \"=\"*35)\n",
        "print(\"            RINGKASAN DATA\")\n",
        "print(\"=\"*35)\n",
        "print(f\"Total Jenis Barang : {hasil['Total Barang']}\")\n",
        "print(f\"Total Jumlah Stok  : {hasil['Total Stok']}\")\n",
        "print(f\"Kategori Terdeteksi: {', '.join(hasil['Kategori'])}\")\n",
        "print(\"=\"*35)\n"
      ],
      "metadata": {
        "id": "LzmevPaMiL6N",
        "colab": {
          "base_uri": "https://localhost:8080/"
        },
        "outputId": "43869636-6e0a-4d14-91b0-61891b7255a4"
      },
      "execution_count": null,
      "outputs": [
        {
          "output_type": "stream",
          "name": "stdout",
          "text": [
            "===================================\n",
            "      DATA STOK BARANG GUDANG\n",
            "===================================\n",
            "Nama Barang     Jumlah     Status    \n",
            "-----------------------------------\n",
            "Kabel           25         Aman      \n",
            "Lampu           18         Cukup     \n",
            "Stopkontak      8          Menipis   \n",
            "Sakelar         12         Cukup     \n",
            "Sekrup          5          Menipis   \n",
            "-----------------------------------\n",
            "Total seluruh stok: 68\n",
            "Kategori stok yang muncul: Cukup, Aman, Menipis\n",
            "\n",
            "===================================\n",
            "            RINGKASAN DATA\n",
            "===================================\n",
            "Total Jenis Barang : 5\n",
            "Total Jumlah Stok  : 68\n",
            "Kategori Terdeteksi: Cukup, Aman, Menipis\n",
            "===================================\n"
          ]
        }
      ]
    }
  ]
}