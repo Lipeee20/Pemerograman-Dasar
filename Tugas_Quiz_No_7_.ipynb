{
  "nbformat": 4,
  "nbformat_minor": 0,
  "metadata": {
    "colab": {
      "provenance": [],
      "authorship_tag": "ABX9TyMbzR9tvB3t4uDyhy7SoSmK",
      "include_colab_link": true
    },
    "kernelspec": {
      "name": "python3",
      "display_name": "Python 3"
    },
    "language_info": {
      "name": "python"
    }
  },
  "cells": [
    {
      "cell_type": "markdown",
      "metadata": {
        "id": "view-in-github",
        "colab_type": "text"
      },
      "source": [
        "<a href=\"https://colab.research.google.com/github/Lipeee20/Pemerograman-Dasar/blob/main/Tugas_Quiz_No_7_.ipynb\" target=\"_parent\"><img src=\"https://colab.research.google.com/assets/colab-badge.svg\" alt=\"Open In Colab\"/></a>"
      ]
    },
    {
      "cell_type": "code",
      "execution_count": 8,
      "metadata": {
        "id": "2mvPGHJGeqJY",
        "colab": {
          "base_uri": "https://localhost:8080/"
        },
        "outputId": "c4b6e4c3-2642-4026-9505-d1426b5e61cb"
      },
      "outputs": [
        {
          "output_type": "stream",
          "name": "stdout",
          "text": [
            "=== Biodata Mahasiswa ===\n",
            "Nama        : Philip\n",
            "Umur        : 21\n",
            "Jurusan     : RPE\n",
            "Semester    : 3\n",
            "Mata Kuliah : Pemrograman Dasar\n",
            "Status Lulus: False\n"
          ]
        }
      ],
      "source": [
        "# Program Sederhana dengan Type Annotation\n",
        "# Variabel dengan annotation\n",
        "nama: str = \"Philip\"\n",
        "umur: int = 21\n",
        "jurusan: str = \"RPE\"\n",
        "semester: int = 3\n",
        "matakuliah: str = \"Pemrograman Dasar\"\n",
        "status_lulus: bool = False\n",
        "\n",
        "# Fungsi dengan annotation\n",
        "def cetak_biodata(nama: str, umur: int, jurusan: str, semester: int,\n",
        "                  matakuliah: str, status_lulus: bool) -> None:\n",
        "\n",
        "    \"\"\"Fungsi untuk mencetak biodata mahasiswa\"\"\"\n",
        "\n",
        "    print(\"=== Biodata Mahasiswa ===\")\n",
        "    print(f\"Nama        : {nama}\")\n",
        "    print(f\"Umur        : {umur}\")\n",
        "    print(f\"Jurusan     : {jurusan}\")\n",
        "    print(f\"Semester    : {semester}\")\n",
        "    print(f\"Mata Kuliah : {matakuliah}\")\n",
        "    print(f\"Status Lulus: {status_lulus}\")\n",
        "\n",
        "# Panggil fungsi\n",
        "cetak_biodata(nama, umur, jurusan, semester, matakuliah, status_lulus)\n",
        "\n"
      ]
    }
  ]
}