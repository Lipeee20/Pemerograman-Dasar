{
  "nbformat": 4,
  "nbformat_minor": 0,
  "metadata": {
    "colab": {
      "provenance": [],
      "authorship_tag": "ABX9TyMrQSAVdGtN3qs3CsGF99Ff",
      "include_colab_link": true
    },
    "kernelspec": {
      "name": "python3",
      "display_name": "Python 3"
    },
    "language_info": {
      "name": "python"
    }
  },
  "cells": [
    {
      "cell_type": "markdown",
      "metadata": {
        "id": "view-in-github",
        "colab_type": "text"
      },
      "source": [
        "<a href=\"https://colab.research.google.com/github/Lipeee20/Pemerograman-Dasar/blob/main/Newwer.ipynb\" target=\"_parent\"><img src=\"https://colab.research.google.com/assets/colab-badge.svg\" alt=\"Open In Colab\"/></a>"
      ]
    },
    {
      "cell_type": "code",
      "execution_count": 9,
      "metadata": {
        "id": "Q_I453Cc-sIM",
        "colab": {
          "base_uri": "https://localhost:8080/"
        },
        "outputId": "7dee1175-cd11-4f3d-b0ab-cf6c31d8f875"
      },
      "outputs": [
        {
          "output_type": "stream",
          "name": "stdout",
          "text": [
            "=== Biodata Mahasiswa ===\n",
            "Nama          : Lipe X Escobar\n",
            "Umur          : 21\n",
            "Jurusan       : RPE\n",
            "Semester      : 3\n",
            "Mata Kuliah   : Pemrograman Dasar\n",
            "Tanggal Lahir : 20 Januari 2004\n",
            "Asal Tempat   : Batam\n",
            "Nomor Telepon : 081234567890\n",
            "Warga Negara  : Indonesia\n",
            "Status Lulus  : False\n",
            "\n",
            "=== Tipe Data Masing-masing Variabel ===\n",
            "Tipe data nama          : <class 'str'>\n",
            "Tipe data umur          : <class 'int'>\n",
            "Tipe data jurusan       : <class 'str'>\n",
            "Tipe data semester      : <class 'int'>\n",
            "Tipe data matakuliah    : <class 'str'>\n",
            "Tipe data tanggal_lahir : <class 'str'>\n",
            "Tipe data asal_tempat   : <class 'str'>\n",
            "Tipe data nomor_telepon : <class 'str'>\n",
            "Tipe data warga_negara  : <class 'str'>\n",
            "Tipe data status_lulus  : <class 'bool'>\n"
          ]
        }
      ],
      "source": [
        "# ===============================\n",
        "# Praktikum Pemrograman Dasar\n",
        "# Google Colab Notebook\n",
        "# ===============================\n",
        "\n",
        "# 1. Definisi Variabel\n",
        "nama = \"Lipe X Escobar\"\n",
        "umur = 21\n",
        "jurusan = \"RPE\"\n",
        "semester = 3\n",
        "matakuliah = \"Pemrograman Dasar\"\n",
        "tanggal_lahir = \"20 Januari 2004\"\n",
        "asal_tempat = \"Batam\"\n",
        "nomor_telepon = \"081234567890\"      # String (disimpan string agar 0 depan tidak hilang)\n",
        "warga_negara = \"Indonesia\"\n",
        "status_lulus = False\n",
        "\n",
        "\n",
        "# 2. Menampilkan Data\n",
        "print(\"=== Biodata Mahasiswa ===\")\n",
        "print(\"Nama          :\", nama)\n",
        "print(\"Umur          :\", umur)\n",
        "print(\"Jurusan       :\", jurusan)\n",
        "print(\"Semester      :\", semester)\n",
        "print(\"Mata Kuliah   :\", matakuliah)\n",
        "print(\"Tanggal Lahir :\", tanggal_lahir)\n",
        "print(\"Asal Tempat   :\", asal_tempat)\n",
        "print(\"Nomor Telepon :\", nomor_telepon)\n",
        "print(\"Warga Negara  :\", warga_negara)\n",
        "print(\"Status Lulus  :\", status_lulus)\n",
        "\n",
        "# 3. Menampilkan Jenis Tipe Data\n",
        "print(\"\\n=== Tipe Data Masing-masing Variabel ===\")\n",
        "print(\"Tipe data nama          :\", type(nama))\n",
        "print(\"Tipe data umur          :\", type(umur))\n",
        "print(\"Tipe data jurusan       :\", type(jurusan))\n",
        "print(\"Tipe data semester      :\", type(semester))\n",
        "print(\"Tipe data matakuliah    :\", type(matakuliah))\n",
        "print(\"Tipe data tanggal_lahir :\", type(tanggal_lahir))\n",
        "print(\"Tipe data asal_tempat   :\", type(asal_tempat))\n",
        "print(\"Tipe data nomor_telepon :\", type(nomor_telepon))\n",
        "print(\"Tipe data warga_negara  :\", type(warga_negara))\n",
        "print(\"Tipe data status_lulus  :\", type(status_lulus))"
      ]
    }
  ]
}