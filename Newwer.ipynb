{
  "nbformat": 4,
  "nbformat_minor": 0,
  "metadata": {
    "colab": {
      "provenance": [],
      "authorship_tag": "ABX9TyMKDW2HcO+0FU2Y++jOsVkT",
      "include_colab_link": true
    },
    "kernelspec": {
      "name": "python3",
      "display_name": "Python 3"
    },
    "language_info": {
      "name": "python"
    }
  },
  "cells": [
    {
      "cell_type": "markdown",
      "metadata": {
        "id": "view-in-github",
        "colab_type": "text"
      },
      "source": [
        "<a href=\"https://colab.research.google.com/github/Lipeee20/Pemerograman-Dasar/blob/main/Newwer.ipynb\" target=\"_parent\"><img src=\"https://colab.research.google.com/assets/colab-badge.svg\" alt=\"Open In Colab\"/></a>"
      ]
    },
    {
      "cell_type": "code",
      "execution_count": 3,
      "metadata": {
        "id": "Q_I453Cc-sIM",
        "colab": {
          "base_uri": "https://localhost:8080/"
        },
        "outputId": "1f9d505e-d03c-4136-ea4b-7977bd0c2bbf"
      },
      "outputs": [
        {
          "output_type": "stream",
          "name": "stdout",
          "text": [
            "=== Biodata Mahasiswa ===\n",
            "Nama          : Philip Day Hutasoit\n",
            "Nim           : 4232401027\n",
            "Tanggal Lahir : 20 Januari 2004\n",
            "Umur          : 21\n",
            "Asal Tempat   : Batam\n",
            "Nomor Telepon : 081234567890\n",
            "Jurusan       : Teknik Elektro\n",
            "Prodi         : Teknologi Rekayasa Pembangkit Energi\n",
            "Semester      : 3\n",
            "Mata Kuliah   : Pemrograman Dasar\n",
            "Warga Negara  : Indonesia\n",
            "Status Lulus  : False\n",
            "\n",
            "=== Tipe Data Masing-masing Variabel ===\n",
            "Tipe data nama          : <class 'str'>\n",
            "Tipe data umur          : <class 'int'>\n",
            "Tipe data jurusan       : <class 'str'>\n",
            "Tipe data semester      : <class 'int'>\n",
            "Tipe data matakuliah    : <class 'str'>\n",
            "Tipe data tanggal_lahir : <class 'str'>\n",
            "Tipe data asal_tempat   : <class 'str'>\n",
            "Tipe data nomor_telepon : <class 'str'>\n",
            "Tipe data warga_negara  : <class 'str'>\n",
            "Tipe data status_lulus  : <class 'bool'>\n"
          ]
        }
      ],
      "source": [
        "# ===============================\n",
        "# Praktikum Pemrograman Dasar\n",
        "# Google Colab Notebook\n",
        "# ===============================\n",
        "\n",
        "# 1. Definisi Variabel\n",
        "nama = \"Philip Day Hutasoit\"\n",
        "Nim = \"4232401027\"\n",
        "tanggal_lahir = \"20 Januari 2004\"\n",
        "umur = 21\n",
        "asal_Kota = \"Batam\"\n",
        "nomor_telepon = \"081234567890\"\n",
        "jurusan = \"Teknik Elektro\"\n",
        "Prodi = \"Teknologi Rekayasa Pembangkit Energi\"\n",
        "semester = 3\n",
        "matakuliah = \"Pemrograman Dasar\"\n",
        "warga_negara = \"Indonesia\"\n",
        "status_lulus = False\n",
        "\n",
        "# 2. Menampilkan Data\n",
        "print(\"=== Biodata Mahasiswa ===\")\n",
        "print(\"Nama          :\", nama)\n",
        "print(\"Nim           :\", Nim)\n",
        "print(\"Tanggal Lahir :\", tanggal_lahir)\n",
        "print(\"Umur          :\", umur)\n",
        "print(\"Asal Tempat   :\", asal_Kota)\n",
        "print(\"Nomor Telepon :\", nomor_telepon)\n",
        "print(\"Jurusan       :\", jurusan)\n",
        "print(\"Prodi         :\", Prodi)\n",
        "print(\"Semester      :\", semester)\n",
        "print(\"Mata Kuliah   :\", matakuliah)\n",
        "print(\"Warga Negara  :\", warga_negara)\n",
        "print(\"Status Lulus  :\", status_lulus)\n",
        "\n",
        "# 3. Menampilkan Jenis Tipe Data\n",
        "print(\"\\n=== Tipe Data Masing-masing Variabel ===\")\n",
        "print(\"Tipe data nama          :\", type(nama))\n",
        "print(\"Tipe data umur          :\", type(umur))\n",
        "print(\"Tipe data jurusan       :\", type(jurusan))\n",
        "print(\"Tipe data semester      :\", type(semester))\n",
        "print(\"Tipe data matakuliah    :\", type(matakuliah))\n",
        "print(\"Tipe data tanggal_lahir :\", type(tanggal_lahir))\n",
        "print(\"Tipe data asal_tempat   :\", type(asal_Kota))\n",
        "print(\"Tipe data nomor_telepon :\", type(nomor_telepon))\n",
        "print(\"Tipe data warga_negara  :\", type(warga_negara))\n",
        "print(\"Tipe data status_lulus  :\", type(status_lulus))"
      ]
    }
  ]
}