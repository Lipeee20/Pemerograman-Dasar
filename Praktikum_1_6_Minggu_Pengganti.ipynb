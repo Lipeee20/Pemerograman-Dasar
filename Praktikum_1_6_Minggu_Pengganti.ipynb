{
  "nbformat": 4,
  "nbformat_minor": 0,
  "metadata": {
    "colab": {
      "provenance": [],
      "authorship_tag": "ABX9TyMJx8WMNHAhGttKz/aTelfw",
      "include_colab_link": true
    },
    "kernelspec": {
      "name": "python3",
      "display_name": "Python 3"
    },
    "language_info": {
      "name": "python"
    }
  },
  "cells": [
    {
      "cell_type": "markdown",
      "metadata": {
        "id": "view-in-github",
        "colab_type": "text"
      },
      "source": [
        "<a href=\"https://colab.research.google.com/github/Lipeee20/Pemerograman-Dasar/blob/main/Praktikum_1_6_Minggu_Pengganti.ipynb\" target=\"_parent\"><img src=\"https://colab.research.google.com/assets/colab-badge.svg\" alt=\"Open In Colab\"/></a>"
      ]
    },
    {
      "cell_type": "code",
      "execution_count": null,
      "metadata": {
        "colab": {
          "base_uri": "https://localhost:8080/"
        },
        "id": "f7lb7iRnpIE0",
        "outputId": "b5eb26c3-7941-4837-df90-a411ca66ee4a"
      },
      "outputs": [
        {
          "output_type": "stream",
          "name": "stdout",
          "text": [
            "========== BIODATA PRAKTIKAN ==========\n",
            "Nama Lengkap     : Philip Day Hutasoit\n",
            "Nama Panggilan   : Lipe\n",
            "Jenis Kelamin    : Laki-laki\n",
            "Agama            : Kristen Protestan\n",
            "Tanggal Lahir    : 20 Januari 2004\n",
            "Umur             : 21 tahun\n",
            "Anak Ke          : 3 dari 6 bersaudara\n",
            "Asal Kota        : Batam\n",
            "No. Telepon      : 085835528129\n",
            "Hobi             : Main bulutangkis\n",
            "NIM              : 4232401027\n",
            "Jurusan          : Teknik Elektro\n",
            "Program Studi    : Teknologi Rekayasa Pembangkit Energi\n",
            "Semester         : 3\n",
            "Mata Kuliah      : Pemrograman Dasar\n",
            "Warga Negara     : Indonesia\n",
            "Status Lulus     : Belum Lulus\n",
            "Status Menikah   : Belum Menikah\n",
            "=======================================\n"
          ]
        }
      ],
      "source": [
        "# SOAL 1: Fungsi Inisialisasi Sederhana\n",
        "nama_Panjang = \"Philip Day Hutasoit\"\n",
        "nama_Panggilan = \"Lipe\"\n",
        "Jenis_Kelamin = \"Laki-laki\"\n",
        "Agama = \"Kristen Protestan\"\n",
        "tanggal_lahir = \"20 Januari 2004\"\n",
        "umur = 21\n",
        "anak_ke = \"3 dari 6 bersaudara\"\n",
        "asal_Kota = \"Batam\"\n",
        "nomor_telepon = \"085835528129\"\n",
        "hobi = \"Main bulutangkis\"\n",
        "Nim = \"4232401027\"\n",
        "jurusan = \"Teknik Elektro\"\n",
        "Prodi = \"Teknologi Rekayasa Pembangkit Energi\"\n",
        "semester = 3\n",
        "matakuliah = \"Pemrograman Dasar\"\n",
        "warga_negara = \"Indonesia\"\n",
        "status_lulus = False\n",
        "status_menikah = False\n",
        "\n",
        "# Fungsi menampilkan biodata\n",
        "def Biodata():\n",
        "    \"\"\"Menampilkan biodata lengkap praktikan.\"\"\"\n",
        "    print(\"========== BIODATA PRAKTIKAN ==========\")\n",
        "    print(f\"Nama Lengkap     : {nama_Panjang}\")\n",
        "    print(f\"Nama Panggilan   : {nama_Panggilan}\")\n",
        "    print(f\"Jenis Kelamin    : {Jenis_Kelamin}\")\n",
        "    print(f\"Agama            : {Agama}\")\n",
        "    print(f\"Tanggal Lahir    : {tanggal_lahir}\")\n",
        "    print(f\"Umur             : {umur} tahun\")\n",
        "    print(f\"Anak Ke          : {anak_ke}\")\n",
        "    print(f\"Asal Kota        : {asal_Kota}\")\n",
        "    print(f\"No. Telepon      : {nomor_telepon}\")\n",
        "    print(f\"Hobi             : {hobi}\")\n",
        "    print(f\"NIM              : {Nim}\")\n",
        "    print(f\"Jurusan          : {jurusan}\")\n",
        "    print(f\"Program Studi    : {Prodi}\")\n",
        "    print(f\"Semester         : {semester}\")\n",
        "    print(f\"Mata Kuliah      : {matakuliah}\")\n",
        "    print(f\"Warga Negara     : {warga_negara}\")\n",
        "    print(f\"Status Lulus     : {'Sudah Lulus' if status_lulus else 'Belum Lulus'}\")\n",
        "    print(f\"Status Menikah   : {'Menikah' if status_menikah else 'Belum Menikah'}\")\n",
        "    print(\"=======================================\")\n",
        "\n",
        "# Pemanggilan fungsi\n",
        "Biodata()\n"
      ]
    },
    {
      "cell_type": "code",
      "source": [
        "# SOAL 2: Menghitung Volume Kubus dan Balok (dengan input dari pengguna dan output rapi)\n",
        "\n",
        "# Fungsi menghitung volume kubus\n",
        "def hitung_volume_kubus(sisi):\n",
        "    \"\"\"Menghitung volume kubus dari panjang sisinya.\"\"\"\n",
        "    return sisi ** 3\n",
        "\n",
        "# Fungsi menghitung volume balok\n",
        "def hitung_volume_balok(panjang, lebar, tinggi):\n",
        "    \"\"\"Menghitung volume balok berdasarkan panjang, lebar, dan tinggi.\"\"\"\n",
        "    return panjang * lebar * tinggi\n",
        "\n",
        "# Input dari pengguna\n",
        "print(\"=== PROGRAM PENGHITUNG VOLUME KUBUS DAN BALOK ===\")\n",
        "sisi = float(input(\"Masukkan panjang sisi kubus (cm): \"))\n",
        "panjang = float(input(\"Masukkan panjang balok (cm): \"))\n",
        "lebar = float(input(\"Masukkan lebar balok (cm): \"))\n",
        "tinggi = float(input(\"Masukkan tinggi balok (cm): \"))\n",
        "\n",
        "# Pemanggilan fungsi\n",
        "volume_kubus = hitung_volume_kubus(sisi)\n",
        "volume_balok = hitung_volume_balok(panjang, lebar, tinggi)\n",
        "\n",
        "# Output hasil perhitungan (rapi ke bawah)\n",
        "print(\"\\n=== HASIL PERHITUNGAN ===\")\n",
        "print(\">> Volume Kubus\")\n",
        "print(f\"   Sisi     : {sisi:.0f} cm\")\n",
        "print(f\"   Rumus    : sisi³\")\n",
        "print(f\"   Hasil    : {volume_kubus:.0f} cm³\")\n",
        "\n",
        "print(\"\\n>> Volume Balok\")\n",
        "print(f\"   Panjang  : {panjang:.0f} cm\")\n",
        "print(f\"   Lebar    : {lebar:.0f} cm\")\n",
        "print(f\"   Tinggi   : {tinggi:.0f} cm\")\n",
        "print(f\"   Rumus    : panjang × lebar × tinggi\")\n",
        "print(f\"   Hasil    : {volume_balok:.0f} cm³\")\n",
        "\n",
        "print(\"\\n=== PROGRAM SELESAI ===\")"
      ],
      "metadata": {
        "colab": {
          "base_uri": "https://localhost:8080/"
        },
        "id": "3fn5A29etvAH",
        "outputId": "9ceb43ff-a684-4eed-fd88-e212884438c2"
      },
      "execution_count": null,
      "outputs": [
        {
          "output_type": "stream",
          "name": "stdout",
          "text": [
            "=== PROGRAM PENGHITUNG VOLUME KUBUS DAN BALOK ===\n",
            "Masukkan panjang sisi kubus (cm): 4\n",
            "Masukkan panjang balok (cm): 5\n",
            "Masukkan lebar balok (cm): 6\n",
            "Masukkan tinggi balok (cm): 4\n",
            "\n",
            "=== HASIL PERHITUNGAN ===\n",
            ">> Volume Kubus\n",
            "   Sisi     : 4 cm\n",
            "   Rumus    : sisi³\n",
            "   Hasil    : 64 cm³\n",
            "\n",
            ">> Volume Balok\n",
            "   Panjang  : 5 cm\n",
            "   Lebar    : 6 cm\n",
            "   Tinggi   : 4 cm\n",
            "   Rumus    : panjang × lebar × tinggi\n",
            "   Hasil    : 120 cm³\n",
            "\n",
            "=== PROGRAM SELESAI ===\n"
          ]
        }
      ]
    },
    {
      "cell_type": "code",
      "source": [
        "# SOAL 3: Menghitung Rata-rata dari List Nilai\n",
        "def hitung_rata_rata(data_nilai):\n",
        "    \"\"\"Menghitung rata-rata dari list angka menggunakan perulangan for dengan validasi.\"\"\"\n",
        "    total = 0\n",
        "    jumlah_data_valid = 0\n",
        "\n",
        "    # Perulangan untuk menjumlahkan nilai\n",
        "    for nilai in data_nilai:\n",
        "        if 0 <= nilai <= 100:\n",
        "            total += nilai\n",
        "            jumlah_data_valid += 1\n",
        "        else:\n",
        "            print(f\"Nilai {nilai} tidak valid, diabaikan dari perhitungan.\")\n",
        "\n",
        "    # Pembagian untuk rata-rata\n",
        "    if jumlah_data_valid > 0:\n",
        "        return total / jumlah_data_valid\n",
        "    else:\n",
        "        return 0\n",
        "\n",
        "# ==============================\n",
        "# PROGRAM UTAMA\n",
        "# ==============================\n",
        "print(\"\\n=== PROGRAM HITUNG RATA-RATA NILAI PRAKTIKAN ===\")\n",
        "\n",
        "# Meminta jumlah nilai yang akan diinput\n",
        "jumlah = int(input(\"Masukkan jumlah nilai yang ingin dihitung: \"))\n",
        "\n",
        "# List untuk menampung nilai-nilai\n",
        "nilai_praktikan = []\n",
        "\n",
        "# Perulangan input nilai\n",
        "for i in range(jumlah):\n",
        "    try:\n",
        "        nilai = float(input(f\"Masukkan nilai ke-{i+1}: \"))\n",
        "        nilai_praktikan.append(nilai)\n",
        "    except ValueError:\n",
        "        print(\"Input tidak valid! Masukkan angka saja.\")\n",
        "        continue\n",
        "\n",
        "# Menampilkan hasil perhitungan\n",
        "print(\"\\n=== HASIL PERHITUNGAN NILAI ===\")\n",
        "print(f\"Data nilai: {nilai_praktikan}\")\n",
        "print(f\"Nilai rata-rata kelas adalah: {hitung_rata_rata(nilai_praktikan):.2f}\")\n",
        "print(\"=== PROGRAM SELESAI ===\")\n"
      ],
      "metadata": {
        "colab": {
          "base_uri": "https://localhost:8080/"
        },
        "id": "9F-vVaBytvyf",
        "outputId": "3187dc45-50d3-4de8-865a-2a2ee44b839e"
      },
      "execution_count": null,
      "outputs": [
        {
          "output_type": "stream",
          "name": "stdout",
          "text": [
            "\n",
            "=== PROGRAM HITUNG RATA-RATA NILAI PRAKTIKAN ===\n",
            "Masukkan jumlah nilai yang ingin dihitung: 5\n",
            "Masukkan nilai ke-1: 92\n",
            "Masukkan nilai ke-2: 87\n",
            "Masukkan nilai ke-3: -10\n",
            "Masukkan nilai ke-4: 130\n",
            "Masukkan nilai ke-5: 100\n",
            "\n",
            "=== HASIL PERHITUNGAN NILAI ===\n",
            "Data nilai: [92.0, 87.0, -10.0, 130.0, 100.0]\n",
            "Nilai -10.0 tidak valid, diabaikan dari perhitungan.\n",
            "Nilai 130.0 tidak valid, diabaikan dari perhitungan.\n",
            "Nilai rata-rata kelas adalah: 93.00\n",
            "=== PROGRAM SELESAI ===\n"
          ]
        }
      ]
    },
    {
      "cell_type": "code",
      "source": [
        "# SOAL 4: Sistem Penentuan Predikat Nilai\n",
        "\n",
        "def tentukan_predikat(skor):\n",
        "    \"\"\"Menentukan predikat (A, B, C, D, E) berdasarkan skor dengan validasi tipe data.\"\"\"\n",
        "\n",
        "    # Pengecekan tipe data\n",
        "    if not isinstance(skor, (int, float)):\n",
        "        return \"Error: Skor harus berupa angka (int atau float).\"\n",
        "\n",
        "    # Pengecekan rentang skor\n",
        "    if skor < 0 or skor > 100:\n",
        "        return \"Error: Skor harus berada di antara 0 hingga 100.\"\n",
        "\n",
        "    # Logika penentuan predikat\n",
        "    if skor >= 85:\n",
        "        return \"A\"\n",
        "    elif skor >= 70:\n",
        "        return \"B\"\n",
        "    elif skor >= 60:\n",
        "        return \"C\"\n",
        "    elif skor >= 50:\n",
        "        return \"D\"\n",
        "    else:\n",
        "        return \"E\"\n",
        "\n",
        "\n",
        "# Program utama\n",
        "print(\"=== SISTEM PENENTUAN PREDIKAT NILAI ===\")\n",
        "print(\"Ketik 'selesai' untuk mengakhiri input.\\n\")\n",
        "\n",
        "daftar_nilai = []\n",
        "\n",
        "while True:\n",
        "    skor_input = input(\"Masukkan skor mahasiswa (0–100): \")\n",
        "\n",
        "    # Kondisi untuk keluar dari input loop\n",
        "    if skor_input.lower() == \"selesai\":\n",
        "        break\n",
        "\n",
        "    try:\n",
        "        skor = float(skor_input)\n",
        "        daftar_nilai.append(skor)\n",
        "    except ValueError:\n",
        "        print(\"⚠️  Error: Input harus berupa angka, bukan teks.\\n\")\n",
        "\n",
        "# Menampilkan hasil\n",
        "print(\"\\n=== HASIL PENILAIAN MAHASISWA ===\")\n",
        "if len(daftar_nilai) == 0:\n",
        "    print(\"Tidak ada data nilai yang dimasukkan.\")\n",
        "else:\n",
        "    for i, skor in enumerate(daftar_nilai, start=1):\n",
        "        print(f\"Mahasiswa {i}: Skor = {skor:.0f} → Predikat = {tentukan_predikat(skor)}\")\n",
        "print(\"===============================\")\n"
      ],
      "metadata": {
        "colab": {
          "base_uri": "https://localhost:8080/"
        },
        "id": "lscmeS0Hy3-4",
        "outputId": "59c0f019-9d2e-4ad2-9a96-3e82c84ca6fc"
      },
      "execution_count": null,
      "outputs": [
        {
          "output_type": "stream",
          "name": "stdout",
          "text": [
            "=== SISTEM PENENTUAN PREDIKAT NILAI ===\n",
            "Ketik 'selesai' untuk mengakhiri input.\n",
            "\n",
            "Masukkan skor mahasiswa (0–100): 95\n",
            "Masukkan skor mahasiswa (0–100): 100\n",
            "Masukkan skor mahasiswa (0–100): 110\n",
            "Masukkan skor mahasiswa (0–100): seratus\n",
            "⚠️  Error: Input harus berupa angka, bukan teks.\n",
            "\n",
            "Masukkan skor mahasiswa (0–100): selesai\n",
            "\n",
            "=== HASIL PENILAIAN MAHASISWA ===\n",
            "Mahasiswa 1: Skor = 95.0 → Predikat = A\n",
            "Mahasiswa 2: Skor = 100.0 → Predikat = A\n",
            "Mahasiswa 3: Skor = 110.0 → Predikat = Error: Skor harus berada di antara 0 hingga 100.\n",
            "===============================\n"
          ]
        }
      ]
    },
    {
      "cell_type": "code",
      "source": [
        "# SOAL 5: Menghitung Faktorial dengan Loop While\n",
        "def hitung_faktorial(n):\n",
        "    \"\"\"Menghitung faktorial dari bilangan positif n dengan validasi nilai.\"\"\"\n",
        "\n",
        "    # Penanganan kasus khusus\n",
        "    if n < 0:\n",
        "        return \"Error: Faktorial tidak didefinisikan untuk bilangan negatif.\"\n",
        "    elif n == 0:\n",
        "        return 1  # 0! didefinisikan sebagai 1\n",
        "\n",
        "    hasil = 1\n",
        "\n",
        "    # Perulangan berjalan selama n lebih besar dari 1\n",
        "    while n > 1:\n",
        "        hasil *= n\n",
        "        n -= 1  # Kurangi n setiap iterasi\n",
        "\n",
        "    return hasil\n",
        "\n",
        "\n",
        "# Pemanggilan:\n",
        "print(\"=== PROGRAM PERHITUNGAN FAKTORIAL ===\")\n",
        "bilangan_n = int(input(\"Masukkan bilangan bulat positif: \"))\n",
        "print(f\"Faktorial dari {bilangan_n} adalah: {hitung_faktorial(bilangan_n)}\")\n"
      ],
      "metadata": {
        "colab": {
          "base_uri": "https://localhost:8080/"
        },
        "id": "wfSWCRnMtwje",
        "outputId": "9cd23a48-6c74-44db-b636-f59cde187884"
      },
      "execution_count": null,
      "outputs": [
        {
          "output_type": "stream",
          "name": "stdout",
          "text": [
            "=== PROGRAM PERHITUNGAN FAKTORIAL ===\n",
            "Masukkan bilangan bulat positif: 5\n",
            "Faktorial dari 5 adalah: 120\n"
          ]
        }
      ]
    },
    {
      "cell_type": "code",
      "source": [
        "# SOAL 6: Analisis Data Suhu Ekstrem (for dan if/elif)\n",
        "def analisis_suhu(data_suhu, batas_panas=35, batas_dingin=15):\n",
        "    \"\"\"Menghitung jumlah hari Panas dan Dingin dari data_suhu.\"\"\"\n",
        "    panas_count = 0\n",
        "    dingin_count = 0\n",
        "\n",
        "    for suhu in data_suhu:\n",
        "        if suhu >= batas_panas:\n",
        "            panas_count += 1\n",
        "        elif suhu <= batas_dingin:\n",
        "            dingin_count += 1\n",
        "\n",
        "    return panas_count, dingin_count\n",
        "\n",
        "\n",
        "# Input data dari pengguna\n",
        "data_suhu = []\n",
        "jumlah_data = int(input(\"Masukkan jumlah hari yang ingin dianalisis: \"))\n",
        "\n",
        "print(\"\\nMasukkan data suhu harian:\")\n",
        "for i in range(jumlah_data):\n",
        "    suhu = float(input(f\"Hari ke-{i+1}: \"))\n",
        "    data_suhu.append(suhu)\n",
        "\n",
        "# Pemanggilan fungsi\n",
        "jumlah_panas, jumlah_dingin = analisis_suhu(data_suhu)\n",
        "\n",
        "# Output hasil\n",
        "print(\"\\n===== HASIL ANALISIS SUHU =====\")\n",
        "print(f\"Jumlah hari Panas (≥35°C): {jumlah_panas}\")\n",
        "print(f\"Jumlah hari Dingin (≤15°C): {jumlah_dingin}\")\n"
      ],
      "metadata": {
        "colab": {
          "base_uri": "https://localhost:8080/"
        },
        "id": "Hp0eFFdLtwvW",
        "outputId": "853930ca-7617-4887-b841-95582025e74a"
      },
      "execution_count": null,
      "outputs": [
        {
          "output_type": "stream",
          "name": "stdout",
          "text": [
            "Masukkan jumlah hari yang ingin dianalisis: 2\n",
            "\n",
            "Masukkan data suhu harian:\n",
            "Hari ke-1: 50\n",
            "Hari ke-2: 19\n",
            "\n",
            "===== HASIL ANALISIS SUHU =====\n",
            "Jumlah hari Panas (≥35°C): 1\n",
            "Jumlah hari Dingin (≤15°C): 0\n"
          ]
        }
      ]
    }
  ]
}