{
  "nbformat": 4,
  "nbformat_minor": 0,
  "metadata": {
    "colab": {
      "provenance": [],
      "authorship_tag": "ABX9TyPtUQ4YwuuncfTdzsYqzXZh",
      "include_colab_link": true
    },
    "kernelspec": {
      "name": "python3",
      "display_name": "Python 3"
    },
    "language_info": {
      "name": "python"
    }
  },
  "cells": [
    {
      "cell_type": "markdown",
      "metadata": {
        "id": "view-in-github",
        "colab_type": "text"
      },
      "source": [
        "<a href=\"https://colab.research.google.com/github/Lipeee20/Pemerograman-Dasar/blob/main/4232401027_Philip%20Day%20Hutasoit_RPEA_PAGI.ipynb\" target=\"_parent\"><img src=\"https://colab.research.google.com/assets/colab-badge.svg\" alt=\"Open In Colab\"/></a>"
      ]
    },
    {
      "cell_type": "code",
      "execution_count": 1,
      "metadata": {
        "id": "Q_I453Cc-sIM",
        "colab": {
          "base_uri": "https://localhost:8080/"
        },
        "outputId": "0b086375-0c6d-4799-b17e-e01052dc91ee"
      },
      "outputs": [
        {
          "output_type": "stream",
          "name": "stdout",
          "text": [
            "=== Biodata Mahasiswa ===\n",
            "Nama          : Philip Day Hutasoit\n",
            "Nim           : 4232401027\n",
            "Tanggal Lahir : 20 Januari 2004\n",
            "Umur          : 21\n",
            "Asal Tempat   : Batam\n",
            "Nomor Telepon : 081234567890\n",
            "Jurusan       : Teknik Elektro\n",
            "Prodi         : Teknologi Rekayasa Pembangkit Energi\n",
            "Semester      : 3\n",
            "Mata Kuliah   : Pemrograman Dasar\n",
            "Warga Negara  : Indonesia\n",
            "Status Lulus  : False\n"
          ]
        }
      ],
      "source": [
        "# ===============================\n",
        "# Praktikum Pemrograman Dasar\n",
        "# Google Colab Notebook\n",
        "# ===============================\n",
        "\n",
        "# 1. Definisi Variabel\n",
        "nama = \"Philip Day Hutasoit\"\n",
        "Nim = \"4232401027\"\n",
        "tanggal_lahir = \"20 Januari 2004\"\n",
        "umur = 21\n",
        "asal_Kota = \"Batam\"\n",
        "nomor_telepon = \"081234567890\"\n",
        "jurusan = \"Teknik Elektro\"\n",
        "Prodi = \"Teknologi Rekayasa Pembangkit Energi\"\n",
        "semester = 3\n",
        "matakuliah = \"Pemrograman Dasar\"\n",
        "warga_negara = \"Indonesia\"\n",
        "status_lulus = False\n",
        "\n",
        "# 2. Menampilkan Data\n",
        "print(\"=== Biodata Mahasiswa ===\")\n",
        "print(\"Nama          :\", nama)\n",
        "print(\"Nim           :\", Nim)\n",
        "print(\"Tanggal Lahir :\", tanggal_lahir)\n",
        "print(\"Umur          :\", umur)\n",
        "print(\"Asal Tempat   :\", asal_Kota)\n",
        "print(\"Nomor Telepon :\", nomor_telepon)\n",
        "print(\"Jurusan       :\", jurusan)\n",
        "print(\"Prodi         :\", Prodi)\n",
        "print(\"Semester      :\", semester)\n",
        "print(\"Mata Kuliah   :\", matakuliah)\n",
        "print(\"Warga Negara  :\", warga_negara)\n",
        "print(\"Status Lulus  :\", status_lulus)\n",
        "\n"
      ]
    }
  ]
}