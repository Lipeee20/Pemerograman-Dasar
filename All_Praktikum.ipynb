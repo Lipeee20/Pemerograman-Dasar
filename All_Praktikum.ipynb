{
  "nbformat": 4,
  "nbformat_minor": 0,
  "metadata": {
    "colab": {
      "provenance": [],
      "authorship_tag": "ABX9TyMecFppUBSjOJYpA08ZqMTE",
      "include_colab_link": true
    },
    "kernelspec": {
      "name": "python3",
      "display_name": "Python 3"
    },
    "language_info": {
      "name": "python"
    }
  },
  "cells": [
    {
      "cell_type": "markdown",
      "metadata": {
        "id": "view-in-github",
        "colab_type": "text"
      },
      "source": [
        "<a href=\"https://colab.research.google.com/github/Lipeee20/Pemerograman-Dasar/blob/main/All_Praktikum.ipynb\" target=\"_parent\"><img src=\"https://colab.research.google.com/assets/colab-badge.svg\" alt=\"Open In Colab\"/></a>"
      ]
    },
    {
      "cell_type": "code",
      "execution_count": null,
      "metadata": {
        "colab": {
          "base_uri": "https://localhost:8080/"
        },
        "id": "HCdDD-K0OfFq",
        "outputId": "5c6aab55-87a5-4e6f-c316-2e9e8e5733d3"
      },
      "outputs": [
        {
          "output_type": "stream",
          "name": "stdout",
          "text": [
            "Elemen pertama: 23\n",
            "Elemen kedua  : 43\n",
            "Elemen ketiga : 15\n",
            "Elemen keempat: 34\n",
            "Setelah diubah: [23, 43, 51, 34]\n"
          ]
        }
      ],
      "source": [
        "# Deklarasi variabel list\n",
        "numbers = [23, 43, 15, 34]\n",
        "\n",
        "# Mengakses elemen dalam list\n",
        "print(\"Elemen pertama:\", numbers[0])  # 23\n",
        "print(\"Elemen kedua  :\", numbers[1])  # 43\n",
        "print(\"Elemen ketiga :\", numbers[2])  # 15\n",
        "print(\"Elemen keempat:\", numbers[3])  # 34\n",
        "\n",
        "# Mengubah nilai elemen dalam list\n",
        "numbers[2] = 51   # mengubah elemen indeks ke-2\n",
        "print(\"Setelah diubah:\", numbers)     # [23, 43, 51, 34]\n",
        "\n",
        "\n"
      ]
    },
    {
      "cell_type": "code",
      "source": [
        "# ---------------------------------------------------\n",
        "# List baru untuk percobaan lainnya\n",
        "numbers2 = [1, 2, 3]\n",
        "\n",
        "# Menambahkan elemen pada indeks ke-4\n",
        "numbers2.insert(3, 5)   # indeks dimulai dari 0, jadi posisi ke-4 adalah indeks 3\n",
        "print(\"Setelah insert :\", numbers2)   # [1, 2, 3, 5]\n",
        "\n",
        "# Mengubah elemen di indeks ke-4\n",
        "numbers2[3] = 4\n",
        "print(\"Setelah ubah   :\", numbers2)   # [1, 2, 3, 4]\n",
        "\n",
        "# Menghapus elemen di indeks ke-2\n",
        "numbers2.pop(1)\n",
        "print(\"Setelah pop    :\", numbers2)   # [1, 3, 4]\n"
      ],
      "metadata": {
        "colab": {
          "base_uri": "https://localhost:8080/"
        },
        "id": "7vBA3aEpPYvu",
        "outputId": "51af70a5-3b58-4301-af23-8f281beeb1d5"
      },
      "execution_count": null,
      "outputs": [
        {
          "output_type": "stream",
          "name": "stdout",
          "text": [
            "Setelah insert : [1, 2, 3, 5]\n",
            "Setelah ubah   : [1, 2, 3, 4]\n",
            "Setelah pop    : [1, 3, 4]\n"
          ]
        }
      ]
    },
    {
      "cell_type": "code",
      "source": [
        "# ----------------------------\n",
        "# Variasi list campuran\n",
        "# ----------------------------\n",
        "myList = [1, \"Rumah\", 4.5, True, [\"Kamar mandi\", \"Kamar tidur\"]]\n",
        "\n",
        "# Mengakses elemen dalam list\n",
        "print(\"Elemen indeks 0:\", myList[0])    # 1\n",
        "print(\"Elemen indeks 1:\", myList[1])    # \"Rumah\"\n",
        "print(\"Elemen indeks 3:\", myList[3])    # True\n",
        "print(\"Elemen indeks 4:\", myList[4])    # [\"Kamar mandi\", \"Kamar tidur\"]\n",
        "\n",
        "# Mengakses elemen dalam sublist\n",
        "print(\"Sublist indeks 4[0]:\", myList[4][0])  # \"Kamar mandi\"\n",
        "print(\"Sublist indeks 4[1]:\", myList[4][1])  # \"Kamar tidur\""
      ],
      "metadata": {
        "colab": {
          "base_uri": "https://localhost:8080/"
        },
        "id": "XyQkg0YqYcI2",
        "outputId": "f94f7778-39b9-42bd-f293-09d5c1f8b886"
      },
      "execution_count": null,
      "outputs": [
        {
          "output_type": "stream",
          "name": "stdout",
          "text": [
            "Elemen indeks 0: 1\n",
            "Elemen indeks 1: Rumah\n",
            "Elemen indeks 3: True\n",
            "Elemen indeks 4: ['Kamar mandi', 'Kamar tidur']\n",
            "Sublist indeks 4[0]: Kamar mandi\n",
            "Sublist indeks 4[1]: Kamar tidur\n"
          ]
        }
      ]
    },
    {
      "cell_type": "code",
      "source": [
        "# deklarasi variabel tuple\n",
        "numbers = (23, 43, 15, 34)\n",
        "\n",
        "# cara mengakses elemen dalam variabel tuple\n",
        "print(\"Elemen pertama:\", numbers[0])   # 23\n",
        "print(\"Elemen kedua:\", numbers[1])     # 43\n",
        "print(\"Elemen ketiga:\", numbers[2])    # 15\n",
        "print(\"Elemen keempat:\", numbers[3])   # 34\n"
      ],
      "metadata": {
        "colab": {
          "base_uri": "https://localhost:8080/"
        },
        "id": "HTI3LCXRlZRB",
        "outputId": "c582231f-b8cf-4b53-b735-248b0a991925"
      },
      "execution_count": null,
      "outputs": [
        {
          "output_type": "stream",
          "name": "stdout",
          "text": [
            "Elemen pertama: 23\n",
            "Elemen kedua: 43\n",
            "Elemen ketiga: 15\n",
            "Elemen keempat: 34\n"
          ]
        }
      ]
    },
    {
      "cell_type": "code",
      "source": [
        "# deklarasi variabel set a dan b\n",
        "a = {1, 2, 3}\n",
        "b = {2, 3, 4}\n",
        "\n",
        "# operasi gabungan\n",
        "print(\"Gabungan:\", a.union(b))              # {1, 2, 3, 4}\n",
        "\n",
        "# operasi irisan\n",
        "print(\"Irisan:\", a.intersection(b))         # {2, 3}\n",
        "\n",
        "# operasi perbedaan simetris\n",
        "print(\"Perbedaan:\", a.symmetric_difference(b))  # {1, 4}\n"
      ],
      "metadata": {
        "colab": {
          "base_uri": "https://localhost:8080/"
        },
        "id": "k48thhJ0q4xp",
        "outputId": "48685827-c62d-4444-fca1-872eb34b9696"
      },
      "execution_count": null,
      "outputs": [
        {
          "output_type": "stream",
          "name": "stdout",
          "text": [
            "Gabungan: {1, 2, 3, 4}\n",
            "Irisan: {2, 3}\n",
            "Perbedaan: {1, 4}\n"
          ]
        }
      ]
    },
    {
      "cell_type": "code",
      "source": [
        "# deklarasi variabel dictionary\n",
        "propertyDetail = {\n",
        "    \"numFloors\": 1,\n",
        "    \"propertyType\": \"Rumah\",\n",
        "    \"hasTerrace\": True,\n",
        "    \"hasGarage\": False\n",
        "}\n",
        "\n",
        "# cara mengakses elemen dalam dictionary\n",
        "print(\"Jumlah lantai:\", propertyDetail[\"numFloors\"])\n",
        "print(\"Tipe properti:\", propertyDetail[\"propertyType\"])\n",
        "print(\"Punya teras:\", propertyDetail[\"hasTerrace\"])\n",
        "print(\"Punya garasi:\", propertyDetail[\"hasGarage\"])\n",
        "\n",
        "# cara mengubah nilai elemen dalam dictionary\n",
        "propertyDetail[\"hasTerrace\"] = False\n",
        "print(\"Update teras:\", propertyDetail[\"hasTerrace\"])\n"
      ],
      "metadata": {
        "colab": {
          "base_uri": "https://localhost:8080/"
        },
        "id": "ou78nCmxy8t5",
        "outputId": "47cd8c73-90d1-4868-98a7-e259389651af"
      },
      "execution_count": null,
      "outputs": [
        {
          "output_type": "stream",
          "name": "stdout",
          "text": [
            "Jumlah lantai: 1\n",
            "Tipe properti: Rumah\n",
            "Punya teras: True\n",
            "Punya garasi: False\n",
            "Update teras: False\n"
          ]
        }
      ]
    }
  ]
}