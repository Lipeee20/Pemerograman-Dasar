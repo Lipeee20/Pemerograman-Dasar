{
  "nbformat": 4,
  "nbformat_minor": 0,
  "metadata": {
    "colab": {
      "provenance": [],
      "authorship_tag": "ABX9TyN0AI3fA8Z9y/nInUGJ7x2B",
      "include_colab_link": true
    },
    "kernelspec": {
      "name": "python3",
      "display_name": "Python 3"
    },
    "language_info": {
      "name": "python"
    }
  },
  "cells": [
    {
      "cell_type": "markdown",
      "metadata": {
        "id": "view-in-github",
        "colab_type": "text"
      },
      "source": [
        "<a href=\"https://colab.research.google.com/github/Lipeee20/Pemerograman-Dasar/blob/main/Tugas_Minggu_2_(1).ipynb\" target=\"_parent\"><img src=\"https://colab.research.google.com/assets/colab-badge.svg\" alt=\"Open In Colab\"/></a>"
      ]
    },
    {
      "cell_type": "code",
      "execution_count": 60,
      "metadata": {
        "colab": {
          "base_uri": "https://localhost:8080/"
        },
        "id": "px-Xlxpobpqy",
        "outputId": "f60ebe0a-e018-4ef9-c25a-c53dd2202d1e"
      },
      "outputs": [
        {
          "output_type": "stream",
          "name": "stdout",
          "text": [
            "\n",
            "First Name : Philip\n",
            "Midle Name : Day\n",
            "Last Name  : Hutasoit\n",
            "Age        : 21\n",
            "Married    : False\n"
          ]
        }
      ],
      "source": [
        "\n",
        "#Tugas Minggu ke 2 (1)\n",
        "\n",
        "firstName = \"Philip\"      # string\n",
        "midleName = \"Day\"         # String\n",
        "lastName = \"Hutasoit\"     # string\n",
        "age = 21                  # integer\n",
        "isMarried = False         # boolean\n",
        "\n",
        "\n",
        "print()\n",
        "print(\"First Name :\", firstName)\n",
        "print(\"Midle Name :\", midleName)\n",
        "print(\"Last Name  :\", lastName)\n",
        "print(\"Age        :\", age)\n",
        "print(\"Married    :\", isMarried)\n"
      ]
    },
    {
      "cell_type": "code",
      "source": [
        "#Tugas Minggu ke 2 (2)\n",
        "\n",
        "data_diri = {\n",
        "    \"firstName\": \"Philip\",  #string\n",
        "    \"midleName\": \"Day\",     #string\n",
        "    \"lastName\": \"Hutasoit\", #string\n",
        "    \"age\": 25,              #integer\n",
        "    \"isMarried\": False      #Boolean\n",
        "}\n",
        "print(\"==>> Data Diri (Dictionary) <<==\")\n",
        "print()\n",
        "for key, value in data_diri.items():\n",
        "    print(f\"{key.ljust(12)}: {value}\")\n"
      ],
      "metadata": {
        "colab": {
          "base_uri": "https://localhost:8080/"
        },
        "id": "tEhSZji81dYc",
        "outputId": "2f5e9b3e-751e-4851-8d1f-81f8f60a2ce5"
      },
      "execution_count": 61,
      "outputs": [
        {
          "output_type": "stream",
          "name": "stdout",
          "text": [
            "==>> Data Diri (Dictionary) <<==\n",
            "\n",
            "firstName   : Philip\n",
            "midleName   : Day\n",
            "lastName    : Hutasoit\n",
            "age         : 25\n",
            "isMarried   : False\n"
          ]
        }
      ]
    },
    {
      "cell_type": "code",
      "source": [
        "#Tugas Minggu ke 2 (3)\n",
        "\n",
        "inspeksi = [\n",
        "    \"pemahaman terhadap rencana dan desain\",\n",
        "    \"ketersediaan bahan dan peralatan\",\n",
        "    \"pengawasan pekerjaan\",\n",
        "    \"kualitas konstruksi\",\n",
        "    \"keselamatan kerja\",\n",
        "    \"koordinasi dengan pemilik proyek\"\n",
        "]\n",
        "\n",
        "# Menampilkan hasil list inspeksi\n",
        "print(\"==>> Daftar Inspeksi bertipe list <<==\")\n",
        "for item in inspeksi:\n",
        "    print(\"*\", item)\n",
        "print()"
      ],
      "metadata": {
        "colab": {
          "base_uri": "https://localhost:8080/"
        },
        "id": "99yk_jyo1uvW",
        "outputId": "85118589-87fa-40f1-d74b-9ca348050c44"
      },
      "execution_count": 62,
      "outputs": [
        {
          "output_type": "stream",
          "name": "stdout",
          "text": [
            "==>> Daftar Inspeksi bertipe list <<==\n",
            "* pemahaman terhadap rencana dan desain\n",
            "* ketersediaan bahan dan peralatan\n",
            "* pengawasan pekerjaan\n",
            "* kualitas konstruksi\n",
            "* keselamatan kerja\n",
            "* koordinasi dengan pemilik proyek\n",
            "\n"
          ]
        }
      ]
    },
    {
      "cell_type": "code",
      "source": [
        "# Tulis kode Anda di bawah ini\n",
        "\n",
        "startTime = {\"HH\": 9,\"mm\": 23, \"ss\": 57}\n",
        "\n",
        "endTime = {\"HH\": 15,\"mm\": 25, \"ss\": 43}\n",
        "\n",
        "\n",
        "print(\"Start Time = \", startTime[\"HH\"],\":\", startTime[\"mm\"], \":\", startTime[\"ss\"])\n",
        "print(\"End Time = \", endTime[\"HH\"], \":\", endTime[\"mm\"], \":\", endTime[\"ss\"])\n"
      ],
      "metadata": {
        "colab": {
          "base_uri": "https://localhost:8080/"
        },
        "id": "2g4D7TQB6o_0",
        "outputId": "d05fd27c-4781-4a95-bb2d-e12b2fe19a12"
      },
      "execution_count": 63,
      "outputs": [
        {
          "output_type": "stream",
          "name": "stdout",
          "text": [
            "Start Time =  9 : 23 : 57\n",
            "End Time =  15 : 25 : 43\n"
          ]
        }
      ]
    },
    {
      "cell_type": "code",
      "source": [
        "# TODO: Silakan buat kode Anda di bawah ini.\n",
        "\n",
        "# Katalog produk dari dua pemasok (set)\n",
        "katalog_A = {\"Laptop\", \"Mouse\", \"Keyboard\", \"Monitor\"}\n",
        "katalog_B = {\"Printer\", \"Mouse\", \"Monitor\", \"Tablet\"}\n",
        "\n",
        "# Daftar produk yang sedang diskon (tuple)\n",
        "produk_diskon = (\"Laptop\", \"Printer\", \"Tablet\", \"Speaker\")\n",
        "\n",
        "# 1. Gabungkan katalog_A dan katalog_B menjadi satu set\n",
        "katalog_lengkap = katalog_A.union(katalog_B)\n",
        "\n",
        "# 2. Cari produk yang ada di katalog_lengkap dan juga ada di produk_diskon\n",
        "produk_promo_aktif = katalog_lengkap.intersection(produk_diskon)\n",
        "\n",
        "# Cetak hasil rapi berbaris\n",
        "print(\"==>> HASIL KATALOG PRODUK <<==\")\n",
        "print()\n",
        "print(\"Katalog Lengkap:\")\n",
        "for item in katalog_lengkap:\n",
        "    print(\"+\", item)\n",
        "\n",
        "print(\"\\nProduk Diskon:\")\n",
        "for item in produk_diskon:\n",
        "    print(\"+\", item)\n",
        "\n",
        "print(\"\\nProduk Promo Aktif:\")\n",
        "for item in produk_promo_aktif:\n",
        "    print(\"+\", item)\n"
      ],
      "metadata": {
        "colab": {
          "base_uri": "https://localhost:8080/"
        },
        "id": "cScuGQsn6pMG",
        "outputId": "0cb7ebbe-0e51-4ddf-b000-6ac3949b984c"
      },
      "execution_count": 64,
      "outputs": [
        {
          "output_type": "stream",
          "name": "stdout",
          "text": [
            "==>> HASIL KATALOG PRODUK <<==\n",
            "\n",
            "Katalog Lengkap:\n",
            "+ Monitor\n",
            "+ Tablet\n",
            "+ Laptop\n",
            "+ Printer\n",
            "+ Mouse\n",
            "+ Keyboard\n",
            "\n",
            "Produk Diskon:\n",
            "+ Laptop\n",
            "+ Printer\n",
            "+ Tablet\n",
            "+ Speaker\n",
            "\n",
            "Produk Promo Aktif:\n",
            "+ Tablet\n",
            "+ Laptop\n",
            "+ Printer\n"
          ]
        }
      ]
    }
  ]
}