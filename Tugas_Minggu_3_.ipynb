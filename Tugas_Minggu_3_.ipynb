{
  "nbformat": 4,
  "nbformat_minor": 0,
  "metadata": {
    "colab": {
      "provenance": [],
      "authorship_tag": "ABX9TyOOUMrkFaioO0NUrUjyuuBq",
      "include_colab_link": true
    },
    "kernelspec": {
      "name": "python3",
      "display_name": "Python 3"
    },
    "language_info": {
      "name": "python"
    }
  },
  "cells": [
    {
      "cell_type": "markdown",
      "metadata": {
        "id": "view-in-github",
        "colab_type": "text"
      },
      "source": [
        "<a href=\"https://colab.research.google.com/github/Lipeee20/Pemerograman-Dasar/blob/main/Tugas_Minggu_3_.ipynb\" target=\"_parent\"><img src=\"https://colab.research.google.com/assets/colab-badge.svg\" alt=\"Open In Colab\"/></a>"
      ]
    },
    {
      "cell_type": "code",
      "source": [
        "# Program Kasir Sederhana (tanpa if)\n",
        "\n",
        "# Input data\n",
        "n = int(input(\"Masukkan jumlah item yang dibeli: \"))\n",
        "harga = [int(input(f\"Harga item ke-{i+1}: \")) for i in range(n)]\n",
        "\n",
        "# Input status member\n",
        "member = input(\"Apakah Anda member? (ya/tidak): \").lower() == \"ya\"\n",
        "\n",
        "# 1. Hitung Subtotal\n",
        "subtotal = sum(harga)\n",
        "\n",
        "# 2. Evaluasi syarat diskon (member dan subtotal > 100000)\n",
        "syarat_diskon = member and subtotal > 100000\n",
        "\n",
        "# 3. Hitung Jumlah Diskon (15% jika syarat terpenuhi, 0 jika tidak)\n",
        "diskon = subtotal * 0.15 * syarat_diskon\n",
        "\n",
        "# 4. Hitung Harga Setelah Diskon\n",
        "harga_setelah_diskon = subtotal - diskon\n",
        "\n",
        "# 5. Hitung PPN (11% dari harga setelah diskon)\n",
        "ppn = harga_setelah_diskon * 0.11\n",
        "\n",
        "# 6. Hitung Total Akhir\n",
        "total_akhir = harga_setelah_diskon + ppn\n",
        "\n",
        "# Output\n",
        "print()\n",
        "print(\"--- Struk Belanja ---\")\n",
        "print(f\"Subtotal            : Rp{subtotal:,.0f}\")\n",
        "print(f\"Diskon              : Rp{diskon:,.0f}\")\n",
        "print(f\"Harga Setelah Diskon: Rp{harga_setelah_diskon:,.0f}\")\n",
        "print(f\"PPN (11%)           : Rp{ppn:,.0f}\")\n",
        "print(f\"Total Akhir         : Rp{total_akhir:,.0f}\")\n"
      ],
      "metadata": {
        "colab": {
          "base_uri": "https://localhost:8080/"
        },
        "id": "TvW2vRv1xvY5",
        "outputId": "073d7c73-2d22-48f7-cc5b-84157c164e7e"
      },
      "execution_count": null,
      "outputs": [
        {
          "output_type": "stream",
          "name": "stdout",
          "text": [
            "Masukkan jumlah item yang dibeli: 1\n",
            "Harga item ke-1: 100000\n",
            "Apakah Anda member? (ya/tidak): ya\n",
            "\n",
            "--- Struk Belanja ---\n",
            "Subtotal            : Rp100,000\n",
            "Diskon              : Rp0\n",
            "Harga Setelah Diskon: Rp100,000\n",
            "PPN (11%)           : Rp11,000\n",
            "Total Akhir         : Rp111,000\n"
          ]
        }
      ]
    }
  ]
}