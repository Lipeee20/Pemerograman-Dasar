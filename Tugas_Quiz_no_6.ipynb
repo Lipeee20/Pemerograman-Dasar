{
  "nbformat": 4,
  "nbformat_minor": 0,
  "metadata": {
    "colab": {
      "provenance": [],
      "authorship_tag": "ABX9TyPlj8AWKOG6g4F6B80/opc6",
      "include_colab_link": true
    },
    "kernelspec": {
      "name": "python3",
      "display_name": "Python 3"
    },
    "language_info": {
      "name": "python"
    }
  },
  "cells": [
    {
      "cell_type": "markdown",
      "metadata": {
        "id": "view-in-github",
        "colab_type": "text"
      },
      "source": [
        "<a href=\"https://colab.research.google.com/github/Lipeee20/Pemerograman-Dasar/blob/main/Tugas_Quiz_no_6.ipynb\" target=\"_parent\"><img src=\"https://colab.research.google.com/assets/colab-badge.svg\" alt=\"Open In Colab\"/></a>"
      ]
    },
    {
      "cell_type": "code",
      "execution_count": 7,
      "metadata": {
        "colab": {
          "base_uri": "https://localhost:8080/"
        },
        "id": "9uFaa-c4TilT",
        "outputId": "90e8c880-6a40-4f3c-aea0-4944134db6fc"
      },
      "outputs": [
        {
          "output_type": "stream",
          "name": "stdout",
          "text": [
            "=== Biodata (List) ===\n",
            "Nama         : Philip\n",
            "Umur         : 21\n",
            "Jurusan      : RPE\n",
            "Semester     : 3\n",
            "Mata Kuliah  : Pemrograman Dasar\n",
            "Status Lulus : False\n",
            "\n",
            "=== Biodata (Tuple) ===\n",
            "Nama         : Philip\n",
            "Umur         : 21\n",
            "Jurusan      : RPE\n",
            "Semester     : 3\n",
            "Mata Kuliah  : Pemrograman Dasar\n",
            "Status Lulus : False\n",
            "\n",
            "=== Biodata (Set) ===\n",
            "False\n",
            "Pemrograman Dasar\n",
            "RPE\n",
            "3\n",
            "Philip\n",
            "21\n",
            "\n",
            "=== Biodata (Dictionary) ===\n",
            "Nama        : Philip\n",
            "Umur        : 21\n",
            "Jurusan     : RPE\n",
            "Semester    : 3\n",
            "Mata Kuliah : Pemrograman Dasar\n",
            "Status Lulus: False\n"
          ]
        }
      ],
      "source": [
        "# Program Sederhana Biodata dengan Tipe Data Non-Primitif\n",
        "\n",
        "# 1. List\n",
        "biodata_list = [\"Philip\", 21, \"RPE\", 3, \"Pemrograman Dasar\", False]\n",
        "\n",
        "print(\"=== Biodata (List) ===\")\n",
        "print(\"Nama         :\", biodata_list[0])\n",
        "print(\"Umur         :\", biodata_list[1])\n",
        "print(\"Jurusan      :\", biodata_list[2])\n",
        "print(\"Semester     :\", biodata_list[3])\n",
        "print(\"Mata Kuliah  :\", biodata_list[4])\n",
        "print(\"Status Lulus :\", biodata_list[5])\n",
        "print()\n",
        "\n",
        "\n",
        "# 2. Tuple\n",
        "biodata_tuple = (\"Philip\", 21, \"RPE\", 3, \"Pemrograman Dasar\", False)\n",
        "\n",
        "print(\"=== Biodata (Tuple) ===\")\n",
        "print(\"Nama         :\", biodata_tuple[0])\n",
        "print(\"Umur         :\", biodata_tuple[1])\n",
        "print(\"Jurusan      :\", biodata_tuple[2])\n",
        "print(\"Semester     :\", biodata_tuple[3])\n",
        "print(\"Mata Kuliah  :\", biodata_tuple[4])\n",
        "print(\"Status Lulus :\", biodata_tuple[5])\n",
        "print()\n",
        "\n",
        "\n",
        "# 3. Set\n",
        "biodata_set = {\"Philip\", 21, \"RPE\", 3, \"Pemrograman Dasar\", False}\n",
        "\n",
        "print(\"=== Biodata (Set) ===\")\n",
        "for data in biodata_set:\n",
        "    print(data)\n",
        "print()\n",
        "\n",
        "\n",
        "# 4. Dictionary\n",
        "biodata_dict = {\n",
        "    \"Nama\": \"Philip\",\n",
        "    \"Umur\": 21,\n",
        "    \"Jurusan\": \"RPE\",\n",
        "    \"Semester\": 3,\n",
        "    \"Mata Kuliah\": \"Pemrograman Dasar\",\n",
        "    \"Status Lulus\": False\n",
        "}\n",
        "\n",
        "print(\"=== Biodata (Dictionary) ===\")\n",
        "for key, value in biodata_dict.items():\n",
        "    print(f\"{key.ljust(12)}: {value}\")\n"
      ]
    }
  ]
}