{
  "nbformat": 4,
  "nbformat_minor": 0,
  "metadata": {
    "colab": {
      "provenance": [],
      "authorship_tag": "ABX9TyMDSjQS+Yivp0p1OK1VJxBc",
      "include_colab_link": true
    },
    "kernelspec": {
      "name": "python3",
      "display_name": "Python 3"
    },
    "language_info": {
      "name": "python"
    }
  },
  "cells": [
    {
      "cell_type": "markdown",
      "metadata": {
        "id": "view-in-github",
        "colab_type": "text"
      },
      "source": [
        "<a href=\"https://colab.research.google.com/github/Lipeee20/Pemerograman-Dasar/blob/main/Praktikum_M3_.ipynb\" target=\"_parent\"><img src=\"https://colab.research.google.com/assets/colab-badge.svg\" alt=\"Open In Colab\"/></a>"
      ]
    },
    {
      "cell_type": "code",
      "execution_count": null,
      "metadata": {
        "id": "dZ3JOcG0fGzp",
        "colab": {
          "base_uri": "https://localhost:8080/"
        },
        "outputId": "5dd5dfe9-ec40-408c-851e-56548884df7d"
      },
      "outputs": [
        {
          "output_type": "stream",
          "name": "stdout",
          "text": [
            "Berapa porsi makan yang Anda beli? : 2\n",
            "Siapa Nama Pelanggan? : Lipe\n",
            "\n",
            "--- Data Transaksi ---\n",
            "Nama Pelanggan : Lipe\n",
            "Jumlah Porsi   : 2\n"
          ]
        }
      ],
      "source": [
        "# Praktikum 1 (Minggu 3)\n",
        "\n",
        "# Program Input - Output dengan tipe data float\n",
        "\n",
        "# Input jumlah porsi makan (tipe data float)\n",
        "total = float (input(\"Berapa porsi makan yang Anda beli? : \"))\n",
        "\n",
        "# Input nama pelanggan (tetap string)\n",
        "Nama = str (input(\"Siapa Nama Pelanggan? : \"))\n",
        "\n",
        "print()\n",
        "# Output hasil input\n",
        "print(\"--- Data Transaksi ---\")\n",
        "print(\"Nama Pelanggan :\", Nama)\n",
        "print(\"Jumlah Porsi   : %.0f\" % total)"
      ]
    },
    {
      "cell_type": "code",
      "source": [
        "\n",
        "# Praktikum 2 (Minggu 3)\n",
        "\n",
        "# Contoh penggunaan berbagai format output\n",
        "\n",
        "# Integer (%d)\n",
        "jumlah_porsi = 3\n",
        "print(\"LIPEE sedang memesan %d porsi Bakmie\" % jumlah_porsi)\n",
        "\n",
        "# Float (%f)\n",
        "harga = 20.500\n",
        "print(\"Harga per nya porsi adalah Rp%.3f ribu rupiah\" % harga)\n",
        "\n",
        "# String (%s)\n",
        "food = \"Basreng Pedas\"\n",
        "print(\"LIPEE sedang memesan %s\" % food)\n",
        "\n",
        "# Hexadecimal (%x)\n",
        "bilangan = 256\n",
        "print(\"Bilangan %d dalam hexadesimal adalah %x\" % (bilangan, bilangan))\n",
        "\n",
        "# Octal (%o)\n",
        "print(\"Bilangan %d dalam octal adalah %o\" % (bilangan, bilangan))"
      ],
      "metadata": {
        "colab": {
          "base_uri": "https://localhost:8080/"
        },
        "id": "2NsiI-T9hY2X",
        "outputId": "6c74343e-76c2-4f4e-f114-31f1a7dd3ab6"
      },
      "execution_count": null,
      "outputs": [
        {
          "output_type": "stream",
          "name": "stdout",
          "text": [
            "LIPEE sedang memesan 3 porsi Bakmie\n",
            "Harga per nya porsi adalah Rp20.500 ribu rupiah\n",
            "LIPEE sedang memesan Basreng Pedas\n",
            "Bilangan 256 dalam hexadesimal adalah 100\n",
            "Bilangan 256 dalam octal adalah 400\n"
          ]
        }
      ]
    },
    {
      "cell_type": "code",
      "source": [
        "\n",
        "# Praktikum 3 (Minggu 3)\n",
        "\n",
        "# Kalkulator Kasir\n",
        "harga_makan = float(input(\"Berapa harga Nasi Kandar per porsi? : \"))\n",
        "jumlah_makan = int(input(\"Berapa porsi yang Anda beli? : \"))\n",
        "nama = str(input(\"Nama Pelanggan? : \"))\n",
        "\n",
        "total_makan = harga_makan * jumlah_makan\n",
        "\n",
        "print()\n",
        "print(\"--- Data Transaksi ---\")\n",
        "print(f\"Atas Nama       = {nama}\")\n",
        "print(f\"Total Pesanan   = {jumlah_makan} Porsi Nasi Kandar\")\n",
        "print(f\"Total Belanjaan = Rp{total_makan:,.0f}\")"
      ],
      "metadata": {
        "id": "_EY2Gda8y3Qh",
        "colab": {
          "base_uri": "https://localhost:8080/"
        },
        "outputId": "8c9143a3-3a94-4a07-b674-636f1478c044"
      },
      "execution_count": null,
      "outputs": [
        {
          "output_type": "stream",
          "name": "stdout",
          "text": [
            "Berapa harga Nasi Kandar per porsi? : 15000\n",
            "Berapa porsi yang Anda beli? : 3\n",
            "Nama Pelanggan? : lipee\n",
            "\n",
            "--- Data Transaksi ---\n",
            "Atas Nama       = lipee\n",
            "Total Pesanan   = 3 Porsi Nasi Kandar\n",
            "Total Belanjaan = Rp45,000\n"
          ]
        }
      ]
    },
    {
      "cell_type": "code",
      "source": [
        "# Praktikum 4 (Minggu 3)\n",
        "\n",
        "# Konversi Total Detik ke Jam : Menit : Detik\n",
        "\n",
        "# Input total detik dari keyboard\n",
        "total_detik = int(input(\"Masukkan total detik: \"))\n",
        "\n",
        "# Hitung jam\n",
        "jam = total_detik // 3600\n",
        "\n",
        "# Sisa detik setelah diubah ke jam\n",
        "sisa_detik = total_detik % 3600\n",
        "\n",
        "# Hitung menit\n",
        "menit = sisa_detik // 60\n",
        "\n",
        "# Sisa detik setelah diubah ke menit\n",
        "detik = sisa_detik % 60\n",
        "\n",
        "# Output hasil konversi\n",
        "print(f\"Hasil Konversi: {jam} Jam, {menit} Menit, {detik} Detik\")"
      ],
      "metadata": {
        "colab": {
          "base_uri": "https://localhost:8080/"
        },
        "id": "ufk0cAcNwyVK",
        "outputId": "d44b3dc3-ce3b-4a59-ed17-066f1b5a70a4"
      },
      "execution_count": null,
      "outputs": [
        {
          "output_type": "stream",
          "name": "stdout",
          "text": [
            "Masukkan total detik: 358200\n",
            "Hasil Konversi: 99 Jam, 30 Menit, 0 Detik\n"
          ]
        }
      ]
    },
    {
      "cell_type": "code",
      "source": [
        "# Praktikum 5 (Minggu 3)\n",
        "\n",
        "# Menghitung Nilai Akhir Mahasiswa\n",
        "tugas = float(input(\"Masukkan nilai tugas: \"))\n",
        "kuis = float(input(\"Masukkan nilai kuis: \"))\n",
        "uts = float(input(\"Masukkan nilai UTS: \"))\n",
        "uas = float(input(\"Masukkan nilai UAS: \"))\n",
        "praktikum = float(input(\"Masukkan nilai praktikum: \"))\n",
        "\n",
        "\n",
        "# Hitung nilai akhir (bobot bisa disesuaikan)\n",
        "nilai_mahasiswa = (0.2 * tugas) + (0.1 * kuis) + (0.25 * uts) + (0.35 * uas) + (0.1 * praktikum)\n",
        "\n",
        "standar_kelulusan = float(input(\"Masukkan standar kelulusan: \"))\n",
        "\n",
        "apakah_lulus = nilai_mahasiswa >= standar_kelulusan\n",
        "perlu_remedial = nilai_mahasiswa < standar_kelulusan\n",
        "\n",
        "print()\n",
        "print(\"=== HASIL PERHITUNGAN ===\")\n",
        "print(f\"Nilai Akhir             : %.0f\" % nilai_mahasiswa)\n",
        "print(f\"Standar Kelulusan       : %.0f\" % standar_kelulusan)\n",
        "print(f\"Apakah Mahasiswa Lulus? : {apakah_lulus}\")\n",
        "print(f\"Perlu Remedial?         : {perlu_remedial}\")\n",
        "\n"
      ],
      "metadata": {
        "id": "tawilIp0yv8V",
        "colab": {
          "base_uri": "https://localhost:8080/"
        },
        "outputId": "9ad04d1e-4e63-44c8-f550-6c0d16a69a36"
      },
      "execution_count": null,
      "outputs": [
        {
          "output_type": "stream",
          "name": "stdout",
          "text": [
            "Masukkan nilai tugas: 87\n",
            "Masukkan nilai kuis: 90\n",
            "Masukkan nilai UTS: 88\n",
            "Masukkan nilai UAS: 90\n",
            "Masukkan nilai praktikum: 95\n",
            "Masukkan standar kelulusan: 85\n",
            "\n",
            "=== HASIL PERHITUNGAN ===\n",
            "Nilai Akhir             : 89\n",
            "Standar Kelulusan       : 85\n",
            "Apakah Mahasiswa Lulus? : True\n",
            "Perlu Remedial?         : False\n"
          ]
        }
      ]
    },
    {
      "cell_type": "code",
      "source": [
        "# Praktikum 6 (Minggu 3)\n",
        "\n",
        "# Input total belanja\n",
        "belanja = float(input(\"Masukkan total belanja: \"))\n",
        "\n",
        "# Tentukan besar persen diskon (tanpa if)\n",
        "diskon_persen = (35 * (belanja > 1000000)) + (10 * ((belanja > 500000) and (belanja <= 1000000)))\n",
        "\n",
        "# Hitung nilai diskon\n",
        "diskon = (diskon_persen / 100) * belanja\n",
        "\n",
        "# Hitung total harga setelah diskon\n",
        "total_harga = belanja - diskon\n",
        "\n",
        "# Output hasil\n",
        "print()\n",
        "print(\"=== STRUK PEMBAYARAN ===\")\n",
        "print(f\"Total Belanja : Rp{belanja:,.0f}\")\n",
        "print(f\"Diskon        : {diskon_persen}%\")\n",
        "print(f\"Potongan      : Rp{diskon:,.0f}\")\n",
        "print(f\"Total Bayar   : Rp{total_harga:,.0f}\")\n"
      ],
      "metadata": {
        "id": "DwAMq48bsW2h",
        "colab": {
          "base_uri": "https://localhost:8080/"
        },
        "outputId": "530b2ec2-f7f8-484d-ed1c-25b2ee11f645"
      },
      "execution_count": null,
      "outputs": [
        {
          "output_type": "stream",
          "name": "stdout",
          "text": [
            "Masukkan total belanja: 1500000\n",
            "\n",
            "=== STRUK PEMBAYARAN ===\n",
            "Total Belanja : Rp1,500,000\n",
            "Diskon        : 35%\n",
            "Potongan      : Rp525,000\n",
            "Total Bayar   : Rp975,000\n"
          ]
        }
      ]
    },
    {
      "cell_type": "code",
      "source": [
        "nama = \"Philip\"\n",
        "umur = 21\n",
        "print(\"Halo, saya\", nama)\n",
        "print(\"Umur saya\", umur, \"tahun\")\n"
      ],
      "metadata": {
        "id": "JPOeJqS1pTSP",
        "colab": {
          "base_uri": "https://localhost:8080/"
        },
        "outputId": "b21cc408-622b-46cd-f293-5b8bdcbe9403"
      },
      "execution_count": null,
      "outputs": [
        {
          "output_type": "stream",
          "name": "stdout",
          "text": [
            "Halo, saya Philip\n",
            "Umur saya 21 tahun\n"
          ]
        }
      ]
    }
  ]
}